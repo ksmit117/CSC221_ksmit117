{
  "nbformat": 4,
  "nbformat_minor": 0,
  "metadata": {
    "colab": {
      "provenance": [],
      "authorship_tag": "ABX9TyOlGHQIgbDD1yo3vSbf65iH",
      "include_colab_link": true
    },
    "kernelspec": {
      "name": "python3",
      "display_name": "Python 3"
    },
    "language_info": {
      "name": "python"
    }
  },
  "cells": [
    {
      "cell_type": "markdown",
      "metadata": {
        "id": "view-in-github",
        "colab_type": "text"
      },
      "source": [
        "<a href=\"https://colab.research.google.com/github/ksmit117/CSC221_ksmit117/blob/main/Assignment12.ipynb\" target=\"_parent\"><img src=\"https://colab.research.google.com/assets/colab-badge.svg\" alt=\"Open In Colab\"/></a>"
      ]
    },
    {
      "cell_type": "code",
      "execution_count": null,
      "metadata": {
        "colab": {
          "base_uri": "https://localhost:8080/"
        },
        "id": "cWn9joCTWxvp",
        "outputId": "2028fe2c-eac1-498e-87a5-5ac7bfa0edfe"
      },
      "outputs": [
        {
          "output_type": "stream",
          "name": "stdout",
          "text": [
            "Artist: Pablo Picasso 1921\n",
            "Title: Three Musicians 1921\n"
          ]
        }
      ],
      "source": [
        "#Assignment 12 zyBooks 10.13\n",
        "\n",
        "class Artist:\n",
        "    def __init__(self, artist='Artist'):\n",
        "      self.artist = artist\n",
        "\n",
        "class Artwork:\n",
        "    def __init__(self, artist, year=-1, title='unknown'):\n",
        "      self.artist = artist\n",
        "      self.year = year\n",
        "      self.title = title\n",
        "\n",
        "    def print_info(self):\n",
        "      print(f'Artist:', self.artist.artist, self.year)\n",
        "      print(f'Title:', self.title, self.year)\n",
        "artist = Artist('Pablo Picasso')\n",
        "artwork = Artwork(artist, 1921, 'Three Musicians')\n",
        "\n",
        "artwork.print_info()"
      ]
    },
    {
      "cell_type": "code",
      "source": [
        "#Assignment 12 zyBooks 10.14\n",
        "\n",
        "class Triangle:\n",
        "    def __init__(self):\n",
        "        self.base = 0\n",
        "        self.height = 0\n",
        "\n",
        "    def set_base(self, user_base):\n",
        "        self.base = user_base\n",
        "\n",
        "    def set_height(self, user_height):\n",
        "        self.height = user_height\n",
        "\n",
        "    def get_area(self):\n",
        "        area = 0.5 * self.base * self.height\n",
        "        return area\n",
        "\n",
        "    def print_info(self):\n",
        "        print(f'Base: {self.base:.2f}')\n",
        "        print(f'Height: {self.height:.2f}')\n",
        "        print(f'Area: {self.get_area():.2f}')\n",
        "\n",
        "if __name__ == \"__main__\":\n",
        "    triangle1 = Triangle()\n",
        "    triangle2 = Triangle()\n",
        "\n",
        "    # TODO: Read and set base and height for triangle1 (use set_base() and set_height())\n",
        "    user_base = float(input(\"enter base of triagle1: \"))\n",
        "    user_height = float(input(\"enter height of triangle1: \"))\n",
        "    triangle1.set_base(user_base)\n",
        "    triangle1.set_height(user_height)\n",
        "\n",
        "\n",
        "\n",
        "\n",
        "    # TODO: Read and set base and height for triangle2 (use set_base() and set_height())\n",
        "    user_base = int(input(\"enter base of triagle2: \"))\n",
        "    user_height = int(input(\"enter height of triangle2: \"))\n",
        "    triangle2.set_base(user_base)\n",
        "    triangle2.set_height(user_height)\n",
        "\n",
        "\n",
        "\n",
        "\n",
        "    # TODO: Determine smaller triangle (use get_area())\n",
        "    #       and output smaller triangle's info (use print_info())\n",
        "    print(\"triangle1 info\")\n",
        "    triangle1.print_info()\n",
        "    print(\"tirangle2 info\")\n",
        "    triangle2.print_info()\n",
        "\n",
        "\n",
        "\n"
      ],
      "metadata": {
        "colab": {
          "base_uri": "https://localhost:8080/"
        },
        "id": "gQO6ITqTi0qB",
        "outputId": "be55218c-71cc-4671-cf27-b5bb11aebde0"
      },
      "execution_count": null,
      "outputs": [
        {
          "output_type": "stream",
          "name": "stdout",
          "text": [
            "enter base of triagle1: 10\n",
            "enter height of triangle1: 5\n",
            "enter base of triagle2: 2\n",
            "enter height of triangle2: 8\n",
            "triangle1 info\n",
            "Base: 10.00\n",
            "Height: 5.00\n",
            "Area: 25.00\n",
            "tirangle2 info\n",
            "Base: 2.00\n",
            "Height: 8.00\n",
            "Area: 8.00\n"
          ]
        }
      ]
    },
    {
      "cell_type": "code",
      "source": [
        "#Assignment 12 zyBooks 10.15\n",
        "\n",
        "class Team:\n",
        "    def __init__(self):\n",
        "        self.name = 'none'\n",
        "        self.wins = 0\n",
        "        self.losses = 0\n",
        "\n",
        "\n",
        "\n",
        "    # TODO: Define get_win_percentage()\n",
        "        self.get_win_percentage = user_wins / (user_wins + user_losses)\n",
        "\n",
        "    # TODO: Define print_standing()\n",
        "    def print_standing(self):\n",
        "      print(f'Win Percentage:', self.get_win_percentage)\n",
        "\n",
        "      if self.get_win_percentage >= 0.5:\n",
        "        print(f'Congraulations',self.name,'Has a win percentage of', self.get_win_percentage)\n",
        "      else:\n",
        "        print(self.name,'has a losing average of', self.get_win_percentage)\n",
        "\n",
        "\n",
        "\n",
        "if __name__ == \"__main__\":\n",
        "    team = Team()\n",
        "\n",
        "    user_name = input('Team: ')\n",
        "    user_wins = int(input('Wins: '))\n",
        "    user_losses = int(input('Losses:' ))\n",
        "\n",
        "    team.name = user_name\n",
        "    team.wins = user_wins\n",
        "    team.losses = user_losses\n",
        "\n",
        "    team.print_standing()"
      ],
      "metadata": {
        "colab": {
          "base_uri": "https://localhost:8080/"
        },
        "id": "E_PIFk--lNjH",
        "outputId": "ad20cf73-3c9e-4f77-f6de-dc39b33501df"
      },
      "execution_count": null,
      "outputs": [
        {
          "output_type": "stream",
          "name": "stdout",
          "text": [
            "Team: knicks\n",
            "Wins: 20\n",
            "Losses:7\n",
            "Win Percentage: 0.6666666666666666\n",
            "Congraulations knicks Has a win percentage of 0.6666666666666666\n"
          ]
        }
      ]
    },
    {
      "cell_type": "code",
      "source": [
        "#Assignment 12 zyBooks 10.16\n",
        "\n",
        "class VendingMachine:\n",
        "    def __init__(self):\n",
        "        self.bottles = 20\n",
        "\n",
        "    def purchase(self, amount):\n",
        "        self.bottles = self.bottles - amount\n",
        "\n",
        "    def restock(self, amount):\n",
        "        self.bottles = self.bottles + amount\n",
        "\n",
        "    def get_inventory(self):\n",
        "        return self.bottles\n",
        "\n",
        "    def report(self):\n",
        "        print(f'Inventory: {self.bottles} bottles')\n",
        "\n",
        "if __name__ == \"__main__\":\n",
        "    # TODO: Create VendingMachine object\n",
        "    vending_machine = VendingMachine()\n",
        "    print(vending_machine.get_inventory())\n",
        "\n",
        "\n",
        "\n",
        "    # TODO: Purchase input number of drinks\n",
        "    vending_machine.purchase(int(input(\"insert number of bottles sold: \")))\n",
        "\n",
        "\n",
        "    # TODO: Restock input number of bottles\n",
        "    vending_machine.restock((int(input(\"Number of drinks restocked: \"))))\n",
        "\n",
        "    # TODO: Report inventory\n",
        "    print(\"current inventory\")\n",
        "    print(vending_machine.get_inventory())"
      ],
      "metadata": {
        "id": "Cib0qfVKqnpb",
        "colab": {
          "base_uri": "https://localhost:8080/"
        },
        "outputId": "a1d3a59e-28c9-4fbc-f4ee-2bb224accbd8"
      },
      "execution_count": null,
      "outputs": [
        {
          "output_type": "stream",
          "name": "stdout",
          "text": [
            "20\n",
            "insert number of bottles sold: 21\n",
            "Number of drinks restocked: 10\n",
            "current inventory\n",
            "9\n"
          ]
        }
      ]
    }
  ]
}