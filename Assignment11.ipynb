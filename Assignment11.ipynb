{
  "nbformat": 4,
  "nbformat_minor": 0,
  "metadata": {
    "colab": {
      "provenance": [],
      "authorship_tag": "ABX9TyOnKv7mE/nxzc128uvWAyt7",
      "include_colab_link": true
    },
    "kernelspec": {
      "name": "python3",
      "display_name": "Python 3"
    },
    "language_info": {
      "name": "python"
    }
  },
  "cells": [
    {
      "cell_type": "markdown",
      "metadata": {
        "id": "view-in-github",
        "colab_type": "text"
      },
      "source": [
        "<a href=\"https://colab.research.google.com/github/ksmit117/CSC221_ksmit117/blob/main/Assignment11.ipynb\" target=\"_parent\"><img src=\"https://colab.research.google.com/assets/colab-badge.svg\" alt=\"Open In Colab\"/></a>"
      ]
    },
    {
      "cell_type": "code",
      "execution_count": 29,
      "metadata": {
        "colab": {
          "base_uri": "https://localhost:8080/"
        },
        "id": "D0yfeP0VYLkf",
        "outputId": "b222bf49-5903-4d21-fa2b-6333693a6373"
      },
      "outputs": [
        {
          "output_type": "stream",
          "name": "stdout",
          "text": [
            "Korean BBQ\n",
            "Korean\n",
            "The name of the restaurant is: Korean BBQ\n",
            "The cuisine type of the restaurant is: Korean\n",
            "restaurant is open\n"
          ]
        }
      ],
      "source": [
        "#Assignment 11\n",
        "# 9-1\n",
        "\n",
        "class Restaurant:\n",
        "  def __init__(self, restaurant_name, cuisine_type):\n",
        "    self.restaurant_name = restaurant_name\n",
        "    self.cuisine_type = cuisine_type\n",
        "\n",
        "  def describe_restaurant(self):\n",
        "\n",
        "    print(f\"The name of the restaurant is:\", self.restaurant_name)\n",
        "    print(f\"The cuisine type of the restaurant is:\", self.cuisine_type)\n",
        "\n",
        "  def open_restaurant(self):\n",
        "    print(f\"restaurant is open\")\n",
        "\n",
        "restaurant = Restaurant(\"Korean BBQ\", \"Korean\")\n",
        "\n",
        "print(restaurant.restaurant_name)\n",
        "print(restaurant.cuisine_type)\n",
        "\n",
        "restaurant.describe_restaurant()\n",
        "restaurant.open_restaurant()\n",
        "\n",
        "\n",
        "\n"
      ]
    },
    {
      "cell_type": "code",
      "source": [
        "#Assignment 11\n",
        "# 9-2\n",
        "\n",
        "\n",
        "class Restaurant:\n",
        "  def __init__(self, restaurant_name, cuisine_type):\n",
        "    self.restaurant_name = restaurant_name\n",
        "    self.cuisine_type = cuisine_type\n",
        "\n",
        "  def describe_restaurant(self):\n",
        "\n",
        "    print(f\"The name of the restaurant is:\", self.restaurant_name)\n",
        "    print(f\"The cuisine type of the restaurant is:\", self.cuisine_type)\n",
        "\n",
        "  def open_restaurant(self):\n",
        "    print(f\"{self.restaurant_name} is open\")\n",
        "\n",
        "restaurant = Restaurant(\"Korean BBQ\", \"Korean\")\n",
        "\n",
        "print(restaurant.restaurant_name)\n",
        "print(restaurant.cuisine_type)\n",
        "\n",
        "restaurant.describe_restaurant()\n",
        "restaurant.open_restaurant()\n",
        "\n",
        "restaurant = Restaurant(\"Olive Garden\", \"Italian-American\")\n",
        "\n",
        "print(restaurant.restaurant_name)\n",
        "print(restaurant.cuisine_type)\n",
        "\n",
        "restaurant.describe_restaurant()\n",
        "restaurant.open_restaurant()\n",
        "\n",
        "restaurant = Restaurant(\"Chipotle\", \"Mexican\")\n",
        "\n",
        "print(restaurant.restaurant_name)\n",
        "print(restaurant.cuisine_type)\n",
        "\n",
        "restaurant.describe_restaurant()\n",
        "restaurant.open_restaurant()\n"
      ],
      "metadata": {
        "id": "iPOOAHPiYsu6",
        "colab": {
          "base_uri": "https://localhost:8080/"
        },
        "outputId": "fbb38375-9981-4d1a-8a25-f8f57bdf7a8d"
      },
      "execution_count": 27,
      "outputs": [
        {
          "output_type": "stream",
          "name": "stdout",
          "text": [
            "Korean BBQ\n",
            "Korean\n",
            "The name of the restaurant is: Korean BBQ\n",
            "The cuisine type of the restaurant is: Korean\n",
            "Korean BBQ is open\n",
            "Olive Garden\n",
            "Italian-American\n",
            "The name of the restaurant is: Olive Garden\n",
            "The cuisine type of the restaurant is: Italian-American\n",
            "Olive Garden is open\n"
          ]
        }
      ]
    },
    {
      "cell_type": "code",
      "source": [
        "#Assignment 11\n",
        "# 9-3\n",
        "\n",
        "class user:\n",
        "  def __init__(self, first_name, last_name, age ,location, bio):\n",
        "    self.first_name = first_name\n",
        "    self.last_name = last_name\n",
        "    self.bio = bio\n",
        "    self.age = age\n",
        "    self.location = location\n",
        "\n",
        "  def decsribe_user(self):\n",
        "    print(f\"The User is\", self.age,\"the user is from\", self.location, \"the user bio description is\", self.bio, \"the user name is\", self.first_name, self.last_name)\n",
        "\n",
        "  def greet_user(self):\n",
        "    print(f\"Greetings!!!\", self.first_name, self.last_name)\n",
        "    print(\"Users Bio\", self.bio)\n",
        "    print(\"Users Location\", self.location)\n",
        "    print(\"Users age\", self.age)\n",
        "\n",
        "name = user(\"Conner\", \"MCgregor\", \"IM a UFC fighter\", \"UFC\", 35)\n",
        "name.decsribe_user()\n",
        "name.greet_user()\n"
      ],
      "metadata": {
        "colab": {
          "base_uri": "https://localhost:8080/"
        },
        "id": "sd1dvKu8ShNR",
        "outputId": "9a301212-1da9-4c5b-b562-d6021802480c"
      },
      "execution_count": 39,
      "outputs": [
        {
          "output_type": "stream",
          "name": "stdout",
          "text": [
            "The User is IM a UFC fighter the user is from UFC the user bio description is 35 the user name is Conner MCgregor\n",
            "Greetings!!! Conner MCgregor\n",
            "Users Bio 35\n",
            "Users Location UFC\n",
            "Users age IM a UFC fighter\n"
          ]
        }
      ]
    },
    {
      "cell_type": "code",
      "source": [
        "#Assignment 11\n",
        "# 9-6\n",
        "\n",
        "class IceCreamStand(Restaurant):\n",
        "  def __init__(self, name, type, flavors=[]):\n",
        "    self.flavors = flavors\n",
        "\n",
        "\n",
        "  def describe_icecream(self):\n",
        "    print(f\"Icecream flavors: \")\n",
        "    for flavor in self.flavors:\n",
        "      print(flavor)\n",
        "\n",
        "my_IceCreamStand = IceCreamStand(\"Icecream 4 daze\",\"icecream\",[\"Cookies & Cream\", \"Butter Pecan\", \"Chocolate\"])\n",
        "\n",
        "my_IceCreamStand.describe_icecream()\n",
        "\n",
        "\n",
        "\n",
        "\n",
        "\n",
        "\n"
      ],
      "metadata": {
        "colab": {
          "base_uri": "https://localhost:8080/"
        },
        "id": "HswmJ96Qrr7c",
        "outputId": "c6274ac5-18a6-42fa-bc2a-ed5202227ca0"
      },
      "execution_count": 35,
      "outputs": [
        {
          "output_type": "stream",
          "name": "stdout",
          "text": [
            "Icecream flavors: \n",
            "Cookies & Cream\n",
            "Butter Pecan\n",
            "Chocolate\n"
          ]
        }
      ]
    },
    {
      "cell_type": "code",
      "source": [
        "#Assignment 11\n",
        "# 9-7\n",
        "class User:\n",
        "    def __init__(self, first_name, last_name, age, location):\n",
        "        self.first_name = first_name\n",
        "        self.last_name = last_name\n",
        "        self.age = age\n",
        "        self.location = location\n",
        "\n",
        "class Admin(User):\n",
        "    def __init__(self, first_name, last_name, age, location, privileges=None):\n",
        "        super().__init__(first_name, last_name, age, location)\n",
        "        if privileges is None:\n",
        "            self.privileges = []\n",
        "        else:\n",
        "            self.privileges = privileges\n",
        "\n",
        "    def set_privileges(self):\n",
        "        print(\"User's privileges:\")\n",
        "        for privilege in self.privileges:\n",
        "            print(privilege)\n",
        "\n",
        "user_admin = Admin(\"Conner\", \"McGregor\", 35, \"UFC\", privileges=[\"can add post\", \"can delete post\", \"can change password\"])\n",
        "\n",
        "user_admin.set_privileges()\n"
      ],
      "metadata": {
        "colab": {
          "base_uri": "https://localhost:8080/"
        },
        "id": "-pf9bI9p40ab",
        "outputId": "f958ee91-c0cc-49af-d855-80b26f9a47e0"
      },
      "execution_count": 45,
      "outputs": [
        {
          "output_type": "stream",
          "name": "stdout",
          "text": [
            "User's privileges:\n",
            "can add post\n",
            "can delete post\n",
            "can change password\n"
          ]
        }
      ]
    }
  ]
}