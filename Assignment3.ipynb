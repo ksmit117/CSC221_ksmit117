{
  "nbformat": 4,
  "nbformat_minor": 0,
  "metadata": {
    "colab": {
      "provenance": [],
      "authorship_tag": "ABX9TyMvR2Vj3CrGzuGtlbsTjYwc",
      "include_colab_link": true
    },
    "kernelspec": {
      "name": "python3",
      "display_name": "Python 3"
    },
    "language_info": {
      "name": "python"
    }
  },
  "cells": [
    {
      "cell_type": "markdown",
      "metadata": {
        "id": "view-in-github",
        "colab_type": "text"
      },
      "source": [
        "<a href=\"https://colab.research.google.com/github/ksmit117/CSC221_ksmit117/blob/main/Assignment3.ipynb\" target=\"_parent\"><img src=\"https://colab.research.google.com/assets/colab-badge.svg\" alt=\"Open In Colab\"/></a>"
      ]
    },
    {
      "cell_type": "code",
      "execution_count": null,
      "metadata": {
        "id": "SSu-roV6GVsB",
        "colab": {
          "base_uri": "https://localhost:8080/"
        },
        "outputId": "02e9026c-bed8-446c-ffe6-5ab260b87876"
      },
      "outputs": [
        {
          "output_type": "stream",
          "name": "stdout",
          "text": [
            "New York Knicks\n",
            "Brooklyn Nets\n"
          ]
        }
      ],
      "source": [
        "nba_team = \"New York Knicks\"\n",
        "print(nba_team)\n",
        "\n",
        "nba_team = \"Brooklyn Nets\"\n",
        "print(nba_team)\n",
        "\n",
        "\n",
        "\n",
        "\n",
        "\n"
      ]
    },
    {
      "cell_type": "code",
      "source": [
        "#2-3. Personal message\n",
        "\n",
        "name = \"Kalvin Smith\"\n",
        "message = \"Hello, \"\n",
        "print(name)"
      ],
      "metadata": {
        "colab": {
          "base_uri": "https://localhost:8080/"
        },
        "id": "wLWv4bqG-zUp",
        "outputId": "aafee5a2-aa9e-4ebb-8695-9af1f20994b4"
      },
      "execution_count": null,
      "outputs": [
        {
          "output_type": "stream",
          "name": "stdout",
          "text": [
            "Kalvin Smith\n"
          ]
        }
      ]
    },
    {
      "cell_type": "code",
      "source": [
        "#2-4 name Cases\n",
        "\n",
        "\n",
        "print(\"Hello,\", name.title())\n",
        "print(name.upper())\n",
        "print(name.lower())\n",
        "print(name.title())\n"
      ],
      "metadata": {
        "colab": {
          "base_uri": "https://localhost:8080/"
        },
        "id": "8VAaTGxZ-07Q",
        "outputId": "d6e6a450-9feb-48d9-d0af-5b07931e7866"
      },
      "execution_count": null,
      "outputs": [
        {
          "output_type": "stream",
          "name": "stdout",
          "text": [
            "Hello,         \tLamar Jackson\n",
            "    \n",
            "        \tLAMAR JACKSON\n",
            "    \n",
            "        \tlamar jackson\n",
            "    \n",
            "        \tLamar Jackson\n",
            "    \n"
          ]
        }
      ]
    },
    {
      "cell_type": "code",
      "source": [
        "\n",
        "#2-5 Famous Quote\n",
        "#This program displays a famous qoute from Benjamin Franklin\n",
        "\n",
        "print(\"Well done is better than well said. -Benjamin Franklin\")"
      ],
      "metadata": {
        "id": "r4ypwk33-3n8"
      },
      "execution_count": null,
      "outputs": []
    },
    {
      "cell_type": "code",
      "source": [
        "\n",
        "\n",
        "#2-6 Famous Qoute 2\n",
        "\n",
        "famous_person = \"-Benjamin Franklin\"\n",
        "\n",
        "message = \" Well done is better than well said.\"\n",
        "print(famous_person + message)\n"
      ],
      "metadata": {
        "id": "I5nyL_Q8-6o4"
      },
      "execution_count": null,
      "outputs": []
    },
    {
      "cell_type": "code",
      "source": [
        "#2-7 Stripping Names\n",
        "\n",
        "name = \"        \\tLamar Jackson\\n    \"\n",
        "print(name.lstrip())\n",
        "print(name.rstrip())\n",
        "print(name.strip())"
      ],
      "metadata": {
        "colab": {
          "base_uri": "https://localhost:8080/"
        },
        "id": "0a82UDFC-9Nl",
        "outputId": "29cdea5a-a96b-4e4d-8449-de59d5cab422"
      },
      "execution_count": null,
      "outputs": [
        {
          "output_type": "stream",
          "name": "stdout",
          "text": [
            "Lamar Jackson\n",
            "    \n",
            "        \tLamar Jackson\n",
            "Lamar Jackson\n"
          ]
        }
      ]
    },
    {
      "cell_type": "code",
      "source": [
        "#2-8 File exstension\n",
        "\n",
        "filename = filename.removesuffix(\".txt\")\n",
        "\n",
        "print(filename)"
      ],
      "metadata": {
        "colab": {
          "base_uri": "https://localhost:8080/",
          "height": 242
        },
        "id": "GeEEdFlr-_fu",
        "outputId": "e69cd903-1872-4139-c7b6-5610c08ecd4c"
      },
      "execution_count": null,
      "outputs": [
        {
          "output_type": "error",
          "ename": "NameError",
          "evalue": "name 'filename' is not defined",
          "traceback": [
            "\u001b[0;31m---------------------------------------------------------------------------\u001b[0m",
            "\u001b[0;31mNameError\u001b[0m                                 Traceback (most recent call last)",
            "\u001b[0;32m<ipython-input-12-3160b9110634>\u001b[0m in \u001b[0;36m<cell line: 3>\u001b[0;34m()\u001b[0m\n\u001b[1;32m      1\u001b[0m \u001b[0;31m#2-8 File exstension\u001b[0m\u001b[0;34m\u001b[0m\u001b[0;34m\u001b[0m\u001b[0m\n\u001b[1;32m      2\u001b[0m \u001b[0;34m\u001b[0m\u001b[0m\n\u001b[0;32m----> 3\u001b[0;31m \u001b[0mfilename\u001b[0m \u001b[0;34m=\u001b[0m \u001b[0mfilename\u001b[0m\u001b[0;34m.\u001b[0m\u001b[0mremovesuffix\u001b[0m\u001b[0;34m(\u001b[0m\u001b[0;34m\".txt\"\u001b[0m\u001b[0;34m)\u001b[0m\u001b[0;34m\u001b[0m\u001b[0;34m\u001b[0m\u001b[0m\n\u001b[0m\u001b[1;32m      4\u001b[0m \u001b[0;34m\u001b[0m\u001b[0m\n\u001b[1;32m      5\u001b[0m \u001b[0mprint\u001b[0m\u001b[0;34m(\u001b[0m\u001b[0mfilename\u001b[0m\u001b[0;34m)\u001b[0m\u001b[0;34m\u001b[0m\u001b[0;34m\u001b[0m\u001b[0m\n",
            "\u001b[0;31mNameError\u001b[0m: name 'filename' is not defined"
          ]
        }
      ]
    },
    {
      "cell_type": "code",
      "source": [
        "#2-9 Number eight\n",
        "\n",
        "#This program uses different equation that final result equals to 8\n",
        "\n",
        "x = 4\n",
        "y = 2\n",
        "\n",
        "print(x+y+y)\n",
        "\n",
        "print(y*x)\n",
        "\n",
        "print(x*x/y)\n"
      ],
      "metadata": {
        "colab": {
          "base_uri": "https://localhost:8080/"
        },
        "id": "Dw-28UOE_Cdm",
        "outputId": "53978afa-2bf8-48ca-f439-cf19f217df6f"
      },
      "execution_count": null,
      "outputs": [
        {
          "output_type": "stream",
          "name": "stdout",
          "text": [
            "8\n",
            "8\n",
            "8.0\n"
          ]
        }
      ]
    },
    {
      "cell_type": "markdown",
      "source": [],
      "metadata": {
        "id": "roZK-MBR9zl9"
      }
    },
    {
      "cell_type": "code",
      "source": [
        "#2-10 Favorite Number\n",
        "\n",
        "favorite_number = 1\n",
        "print(\"My favorite number is :\", + favorite_number)"
      ],
      "metadata": {
        "colab": {
          "base_uri": "https://localhost:8080/"
        },
        "id": "nC233YwF_JNT",
        "outputId": "883a68f4-f569-4217-c641-8ca7fc8e5674"
      },
      "execution_count": null,
      "outputs": [
        {
          "output_type": "stream",
          "name": "stdout",
          "text": [
            "my favorite number is : 1\n"
          ]
        }
      ]
    },
    {
      "cell_type": "code",
      "source": [],
      "metadata": {
        "id": "OD5Oxi1f_wBr"
      },
      "execution_count": null,
      "outputs": []
    }
  ]
}