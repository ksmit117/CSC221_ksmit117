{
  "nbformat": 4,
  "nbformat_minor": 0,
  "metadata": {
    "colab": {
      "provenance": [],
      "authorship_tag": "ABX9TyOI80ONc6y7IsqA8zkcp9y7",
      "include_colab_link": true
    },
    "kernelspec": {
      "name": "python3",
      "display_name": "Python 3"
    },
    "language_info": {
      "name": "python"
    }
  },
  "cells": [
    {
      "cell_type": "markdown",
      "metadata": {
        "id": "view-in-github",
        "colab_type": "text"
      },
      "source": [
        "<a href=\"https://colab.research.google.com/github/ksmit117/CSC221_ksmit117/blob/main/Quiz3.ipynb\" target=\"_parent\"><img src=\"https://colab.research.google.com/assets/colab-badge.svg\" alt=\"Open In Colab\"/></a>"
      ]
    },
    {
      "cell_type": "code",
      "execution_count": null,
      "metadata": {
        "id": "FGAoufubNtqd"
      },
      "outputs": [],
      "source": [
        "#print\n",
        "print('New York Knick for NBA champ')"
      ]
    },
    {
      "cell_type": "code",
      "source": [
        "#range\n",
        "x = range(0,5)\n",
        "print(x)"
      ],
      "metadata": {
        "colab": {
          "base_uri": "https://localhost:8080/"
        },
        "id": "8qJ4elJEN2tg",
        "outputId": "2aa287cd-8557-4929-cd87-7b80a9519b1f"
      },
      "execution_count": 2,
      "outputs": [
        {
          "output_type": "stream",
          "name": "stdout",
          "text": [
            "range(0, 5)\n"
          ]
        }
      ]
    },
    {
      "cell_type": "code",
      "source": [
        "#input\n",
        "user_input = input(\"Enter: \")\n",
        "print(user_input)"
      ],
      "metadata": {
        "colab": {
          "base_uri": "https://localhost:8080/"
        },
        "id": "7pHs0aZ3ORel",
        "outputId": "e90a71c5-02e3-4d75-a6b9-816c1e0f7ddf"
      },
      "execution_count": 4,
      "outputs": [
        {
          "output_type": "stream",
          "name": "stdout",
          "text": [
            "Enter: hjunk\n",
            "hjunk\n"
          ]
        }
      ]
    },
    {
      "cell_type": "code",
      "source": [
        "#int\n",
        "x = '7'\n",
        "print(4 * int(x))"
      ],
      "metadata": {
        "colab": {
          "base_uri": "https://localhost:8080/"
        },
        "id": "mbj3kR57OfwL",
        "outputId": "3a2f7368-da4f-4fba-97b6-755dc89bafbc"
      },
      "execution_count": 6,
      "outputs": [
        {
          "output_type": "stream",
          "name": "stdout",
          "text": [
            "28\n"
          ]
        }
      ]
    },
    {
      "cell_type": "code",
      "source": [
        "#str\n",
        "x = 50\n",
        "\n",
        "print('knicks had '+ str(x),'wins this season!')"
      ],
      "metadata": {
        "colab": {
          "base_uri": "https://localhost:8080/"
        },
        "id": "6mimLhsVOuk6",
        "outputId": "b5689ffd-6fb2-4cdf-d86d-5d94e087c37c"
      },
      "execution_count": 8,
      "outputs": [
        {
          "output_type": "stream",
          "name": "stdout",
          "text": [
            "knicks had 50 wins this season!\n"
          ]
        }
      ]
    },
    {
      "cell_type": "code",
      "source": [
        "#type\n",
        "points = (9, 10, 0)\n",
        "type(points)"
      ],
      "metadata": {
        "colab": {
          "base_uri": "https://localhost:8080/"
        },
        "id": "R0xCJTzfPnuK",
        "outputId": "11c07717-a8d1-4cf9-c1b3-85381a66a561"
      },
      "execution_count": 9,
      "outputs": [
        {
          "output_type": "execute_result",
          "data": {
            "text/plain": [
              "tuple"
            ]
          },
          "metadata": {},
          "execution_count": 9
        }
      ]
    },
    {
      "cell_type": "code",
      "source": [
        "#list\n",
        "x = list(('cranberry juice', 'apple juice', 'orange juice'))\n",
        "print(x)"
      ],
      "metadata": {
        "colab": {
          "base_uri": "https://localhost:8080/"
        },
        "id": "q39YYSvAQFZq",
        "outputId": "e2431bdd-4df5-4695-aa41-fea3d70064a2"
      },
      "execution_count": 11,
      "outputs": [
        {
          "output_type": "stream",
          "name": "stdout",
          "text": [
            "['cranberry juice', 'apple juice', 'orange juice']\n"
          ]
        }
      ]
    },
    {
      "cell_type": "code",
      "source": [
        "#round\n",
        "x = round(3.14)\n",
        "print(x)"
      ],
      "metadata": {
        "colab": {
          "base_uri": "https://localhost:8080/"
        },
        "id": "z5dRRJl7UNw6",
        "outputId": "c9b85f7c-3d63-4b66-b956-c859761d3f5c"
      },
      "execution_count": 15,
      "outputs": [
        {
          "output_type": "stream",
          "name": "stdout",
          "text": [
            "3\n"
          ]
        }
      ]
    },
    {
      "cell_type": "code",
      "source": [
        "#float()\n",
        "x = 9 * 2\n",
        "print(float(x))"
      ],
      "metadata": {
        "colab": {
          "base_uri": "https://localhost:8080/"
        },
        "id": "7QGyJ_ShVFm6",
        "outputId": "0916c608-631c-47e9-ddaa-66890f27eab5"
      },
      "execution_count": 16,
      "outputs": [
        {
          "output_type": "stream",
          "name": "stdout",
          "text": [
            "18.0\n"
          ]
        }
      ]
    },
    {
      "cell_type": "code",
      "source": [
        "#reversed\n",
        "x = ['popcorn', 'mac & cheese', 'chicken alfredo']\n",
        "y = reversed(x)\n",
        "for element in y:\n",
        "  print(element)"
      ],
      "metadata": {
        "colab": {
          "base_uri": "https://localhost:8080/"
        },
        "id": "wS_xAMP-VQu6",
        "outputId": "8a48b083-249b-4120-a090-b7b0e05e1be6"
      },
      "execution_count": 19,
      "outputs": [
        {
          "output_type": "stream",
          "name": "stdout",
          "text": [
            "chicken alfredo\n",
            "mac & cheese\n",
            "popcorn\n"
          ]
        }
      ]
    },
    {
      "cell_type": "code",
      "source": [
        "#len\n",
        "x = ['popcorn', 'mac & cheese', 'chicken alfredo']\n",
        "y = len(x)\n",
        "print(y)"
      ],
      "metadata": {
        "colab": {
          "base_uri": "https://localhost:8080/"
        },
        "id": "HYFHTrUJe0Jd",
        "outputId": "80ba10d1-084e-4c35-fb5d-47f9c0433f07"
      },
      "execution_count": 25,
      "outputs": [
        {
          "output_type": "stream",
          "name": "stdout",
          "text": [
            "3\n"
          ]
        }
      ]
    },
    {
      "cell_type": "code",
      "source": [
        "#sorted\n",
        "x = ['popcorn', 'mac & cheese', 'chicken alfredo']\n",
        "y = sorted(x)\n",
        "print(y)"
      ],
      "metadata": {
        "colab": {
          "base_uri": "https://localhost:8080/"
        },
        "id": "7oECFcMke5GK",
        "outputId": "2753fb76-c23f-4d35-8bd8-2b926e18c58c"
      },
      "execution_count": 26,
      "outputs": [
        {
          "output_type": "stream",
          "name": "stdout",
          "text": [
            "['chicken alfredo', 'mac & cheese', 'popcorn']\n"
          ]
        }
      ]
    },
    {
      "cell_type": "code",
      "source": [
        "#min\n",
        "x = (9, 16, 25, 36, 49, 64, 81)\n",
        "print(min(x))"
      ],
      "metadata": {
        "colab": {
          "base_uri": "https://localhost:8080/"
        },
        "id": "xG4ZZVS8WSO9",
        "outputId": "51bbef90-3b53-494f-fc05-2e3b5d692c11"
      },
      "execution_count": 20,
      "outputs": [
        {
          "output_type": "stream",
          "name": "stdout",
          "text": [
            "9\n"
          ]
        }
      ]
    },
    {
      "cell_type": "code",
      "source": [
        "#max 12\n",
        "x = (9, 16, 25, 36, 49, 64, 81)\n",
        "print(max(x))"
      ],
      "metadata": {
        "colab": {
          "base_uri": "https://localhost:8080/"
        },
        "id": "ZOkC2ac6W7wK",
        "outputId": "4c6e555e-646f-4e32-e9c2-03407ad120b8"
      },
      "execution_count": 21,
      "outputs": [
        {
          "output_type": "stream",
          "name": "stdout",
          "text": [
            "81\n"
          ]
        }
      ]
    },
    {
      "cell_type": "code",
      "source": [
        "#id\n",
        "Top_Sport_Players = {'Basketball': 'Lebron James', 'Soccer' : 'Messi', 'Football': 'Patrick Mahomes'}\n",
        "players = id(Top_Sport_Players)\n",
        "print(players)"
      ],
      "metadata": {
        "colab": {
          "base_uri": "https://localhost:8080/"
        },
        "id": "WhG_V60gahIS",
        "outputId": "c18b1836-66b4-4d82-c142-49ec7a559a72"
      },
      "execution_count": 24,
      "outputs": [
        {
          "output_type": "stream",
          "name": "stdout",
          "text": [
            "136658421169024\n"
          ]
        }
      ]
    },
    {
      "cell_type": "code",
      "source": [
        "#zip\n",
        "x = (10, 9, 4)\n",
        "y = (1,2,3)\n",
        "z = zip(x,y)\n",
        "print(tuple(z))"
      ],
      "metadata": {
        "colab": {
          "base_uri": "https://localhost:8080/"
        },
        "id": "Vby0BncGflSJ",
        "outputId": "48df55cb-cc2f-4e78-c188-d102202777d7"
      },
      "execution_count": 30,
      "outputs": [
        {
          "output_type": "stream",
          "name": "stdout",
          "text": [
            "((10, 1), (9, 2), (4, 3))\n"
          ]
        }
      ]
    },
    {
      "cell_type": "code",
      "source": [
        "#dict\n",
        "x = dict(name= 'Jalen Brunson', team= 'New York Knicks', PPG= 28)\n",
        "print(x)"
      ],
      "metadata": {
        "colab": {
          "base_uri": "https://localhost:8080/"
        },
        "id": "f58J2B3_gEZN",
        "outputId": "e0be4429-c56d-4efa-ef88-53b5568b2c9a"
      },
      "execution_count": 31,
      "outputs": [
        {
          "output_type": "stream",
          "name": "stdout",
          "text": [
            "{'name': 'Jalen Brunson', 'team': 'New York Knicks', 'PPG': 28}\n"
          ]
        }
      ]
    },
    {
      "cell_type": "code",
      "source": [
        "#bool\n",
        "x =bool(1)\n",
        "print(x)\n",
        "x =bool(0)\n",
        "print(x)"
      ],
      "metadata": {
        "colab": {
          "base_uri": "https://localhost:8080/"
        },
        "id": "bxSsOBSggn5m",
        "outputId": "447c7175-9829-4006-895c-28a6d76346a7"
      },
      "execution_count": 34,
      "outputs": [
        {
          "output_type": "stream",
          "name": "stdout",
          "text": [
            "True\n",
            "False\n"
          ]
        }
      ]
    },
    {
      "cell_type": "code",
      "source": [
        "#abs\n",
        "x = -15\n",
        "print(x)\n",
        "print('Absolute value', abs(x))"
      ],
      "metadata": {
        "colab": {
          "base_uri": "https://localhost:8080/"
        },
        "id": "6yzO_fBwkGj3",
        "outputId": "93013a31-147b-4032-d835-4cc914580126"
      },
      "execution_count": 38,
      "outputs": [
        {
          "output_type": "stream",
          "name": "stdout",
          "text": [
            "-15\n",
            "Absolute value 15\n"
          ]
        }
      ]
    },
    {
      "cell_type": "code",
      "source": [
        "#chr\n",
        "x = chr(1010)\n",
        "print(x)\n",
        "\n"
      ],
      "metadata": {
        "colab": {
          "base_uri": "https://localhost:8080/"
        },
        "id": "zd22q8XbkS-L",
        "outputId": "caced3ff-eec9-468c-87b7-4e9610f0e69d"
      },
      "execution_count": 60,
      "outputs": [
        {
          "output_type": "stream",
          "name": "stdout",
          "text": [
            "ϲ\n"
          ]
        }
      ]
    }
  ]
}