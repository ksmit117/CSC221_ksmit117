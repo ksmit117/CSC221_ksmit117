{
  "nbformat": 4,
  "nbformat_minor": 0,
  "metadata": {
    "colab": {
      "provenance": [],
      "authorship_tag": "ABX9TyNSMwPatr3PkMl1z+mzDq9b",
      "include_colab_link": true
    },
    "kernelspec": {
      "name": "python3",
      "display_name": "Python 3"
    },
    "language_info": {
      "name": "python"
    }
  },
  "cells": [
    {
      "cell_type": "markdown",
      "metadata": {
        "id": "view-in-github",
        "colab_type": "text"
      },
      "source": [
        "<a href=\"https://colab.research.google.com/github/ksmit117/CSC221_ksmit117/blob/main/Assignment9_10.ipynb\" target=\"_parent\"><img src=\"https://colab.research.google.com/assets/colab-badge.svg\" alt=\"Open In Colab\"/></a>"
      ]
    },
    {
      "cell_type": "code",
      "execution_count": null,
      "metadata": {
        "colab": {
          "base_uri": "https://localhost:8080/"
        },
        "id": "bIQ6kBdIWXa_",
        "outputId": "2b5801bc-745c-4fc8-9c55-e0ccbeac962b"
      },
      "outputs": [
        {
          "output_type": "stream",
          "name": "stdout",
          "text": [
            "Example - MAT123 :MAT102\n",
            "Example - MAT123 :MAT201\n",
            "MAT102 class has already been taken\n",
            "MAT201 class has not been registered\n",
            "BUS203 class has not been registered\n",
            "ACC202 class has not been registered\n",
            "CLG210 class has not been registered\n"
          ]
        }
      ],
      "source": [
        "# Assignment 9\n",
        "#func 1\n",
        "def past_courses():\n",
        "  # these list represent classes that have been taken, classes that are registerd for the current semester, and classes that are still needed.\n",
        "\n",
        "\n",
        "  taken_classes = ['MAT102', 'ACC201',\"CSC123\", 'BUS300', 'CLP101', 'CMM118', 'ENG100', 'ENG101', 'PSC100']\n",
        "  registerd_classes = [input(\"Example - MAT123 :\"), input('Example - MAT123 :'), 'BUS203', 'ACC202', 'CLG210']\n",
        "\n",
        "  for registered in registerd_classes:\n",
        "    if registered in taken_classes:\n",
        "      print(registered,'class has already been taken')\n",
        "    else:\n",
        "      print(registered,'class has not been registered')\n",
        "past_courses()\n",
        "\n",
        "\n",
        "\n",
        "\n",
        "\n",
        "\n",
        "\n"
      ]
    },
    {
      "cell_type": "code",
      "source": [
        "# Assignment 9\n",
        "\n",
        "# this function takes in inputs and calculate the product\n",
        "def product():\n",
        "  x = int(input())\n",
        "  y = int(input())\n",
        "  product = x * y\n",
        "  return product\n",
        "product()"
      ],
      "metadata": {
        "colab": {
          "base_uri": "https://localhost:8080/"
        },
        "id": "99-OQw9snS5E",
        "outputId": "327da8c7-65d7-4407-ac60-5d09e37cf586"
      },
      "execution_count": null,
      "outputs": [
        {
          "name": "stdout",
          "output_type": "stream",
          "text": [
            "7\n",
            "78\n"
          ]
        },
        {
          "output_type": "execute_result",
          "data": {
            "text/plain": [
              "546"
            ]
          },
          "metadata": {},
          "execution_count": 1
        }
      ]
    },
    {
      "cell_type": "code",
      "source": [
        "#Assignment 9\n",
        "# factorial n function\n",
        "def factorial(n):\n",
        "  product = 1\n",
        "  my_list = list(range(1,n+1))\n",
        "  for x in my_list:\n",
        "      product = product * x\n",
        "  return product\n",
        "\n",
        "def Brooklyn():\n",
        "  #find how many time the letters in Brooklyn can be rearranged\n",
        "  rearranged_word = factorial(10) / factorial(2)\n",
        "  return rearranged_word\n",
        "\n",
        "Brooklyn()"
      ],
      "metadata": {
        "colab": {
          "base_uri": "https://localhost:8080/"
        },
        "id": "GHKWS4gnPoTQ",
        "outputId": "60c251a2-096d-4c60-ddd0-83a07b1014f0"
      },
      "execution_count": 14,
      "outputs": [
        {
          "output_type": "execute_result",
          "data": {
            "text/plain": [
              "1814400.0"
            ]
          },
          "metadata": {},
          "execution_count": 14
        }
      ]
    },
    {
      "cell_type": "code",
      "source": [
        "## Assignment 9\n",
        "def str_input():\n",
        "  word = str(input())\n",
        "  print(word)\n",
        "\n",
        "str_input()"
      ],
      "metadata": {
        "colab": {
          "base_uri": "https://localhost:8080/"
        },
        "id": "hLZK0VkOiYi7",
        "outputId": "c3974aa1-0482-478b-b5f5-512534350d05"
      },
      "execution_count": 12,
      "outputs": [
        {
          "output_type": "stream",
          "name": "stdout",
          "text": [
            "e\n",
            "e\n"
          ]
        }
      ]
    },
    {
      "cell_type": "code",
      "source": [
        "#Assignment 9\n",
        "def tup_le():\n",
        "  x = 4\n",
        "  y = 10\n",
        "  z = 0\n",
        "  cordinates = tuple((x,y,z))\n",
        "\n",
        "  return cordinates\n",
        "\n",
        "tup_le()"
      ],
      "metadata": {
        "colab": {
          "base_uri": "https://localhost:8080/"
        },
        "id": "FupfqRPkS62z",
        "outputId": "1aaf5bee-8d77-49fb-901f-17768726bae8"
      },
      "execution_count": 7,
      "outputs": [
        {
          "output_type": "execute_result",
          "data": {
            "text/plain": [
              "(4, 10, 0)"
            ]
          },
          "metadata": {},
          "execution_count": 7
        }
      ]
    },
    {
      "cell_type": "code",
      "source": [
        "# Assignment 9\n",
        "\n",
        "\n",
        "\n",
        "def ratings():\n",
        "  NBA_Teams_defensive_ratings = { 'Denver Nuggets' : 109.8, 'Miami Heat' : 117.7, 'Dallas Mavericks' : 109.7, 'Pheonix Suns' : 123.1 }\n",
        "\n",
        "  NBA_Teams_alphabetical_order = dict(sorted(NBA_Teams_defensive_ratings.items()))\n",
        "  NBA_Teams_ordered_defensive_ratings = dict(sorted(NBA_Teams_defensive_ratings.items(), key=lambda item: item[1]))\n",
        "  print(NBA_Teams_alphabetical_order)\n",
        "  print(NBA_Teams_defensive_ratings)\n",
        "\n",
        "ratings()"
      ],
      "metadata": {
        "colab": {
          "base_uri": "https://localhost:8080/"
        },
        "id": "BLFnXyJqXzDP",
        "outputId": "88741fe5-c3ee-47fb-9009-08774092264d"
      },
      "execution_count": 18,
      "outputs": [
        {
          "output_type": "stream",
          "name": "stdout",
          "text": [
            "{'Dallas Mavericks': 109.7, 'Denver Nuggets': 109.8, 'Miami Heat': 117.7, 'Pheonix Suns': 123.1}\n",
            "{'Denver Nuggets': 109.8, 'Miami Heat': 117.7, 'Dallas Mavericks': 109.7, 'Pheonix Suns': 123.1}\n"
          ]
        }
      ]
    },
    {
      "cell_type": "code",
      "source": [
        "#Assignment 9\n",
        "\n",
        "import random\n",
        "def guessing_game():\n",
        "  x = range(1,11)\n",
        "  num = random.choice(x)\n",
        "  print(num)\n",
        "\n",
        "  guess = 11\n",
        "\n",
        "  while num != guess:\n",
        "      guess = int(input(\"Pick a number 1-10: \"))\n",
        "      if num > guess:\n",
        "          print(\"Too Low\")\n",
        "      elif num < guess:\n",
        "          print(\"Too High\")\n",
        "      elif num == guess:\n",
        "          print(\"correct\")\n",
        "          break\n",
        "guessing_game()"
      ],
      "metadata": {
        "id": "O0MZNX8KdhT7",
        "colab": {
          "base_uri": "https://localhost:8080/"
        },
        "outputId": "1c547ab0-a201-4c5e-fd0a-4700d405baeb"
      },
      "execution_count": null,
      "outputs": [
        {
          "output_type": "stream",
          "name": "stdout",
          "text": [
            "10\n",
            "Pick a number 1-10: 7\n",
            "Too Low\n",
            "Pick a number 1-10: 10\n",
            "correct\n"
          ]
        }
      ]
    },
    {
      "cell_type": "code",
      "source": [
        "#Assignment 9\n",
        "def input_id():\n",
        "  user_input = input()\n",
        "  user_id = id(user_input)\n",
        "  return user_id\n",
        "\n",
        "input_id()"
      ],
      "metadata": {
        "colab": {
          "base_uri": "https://localhost:8080/"
        },
        "id": "4PimLSY2y7kD",
        "outputId": "813b9288-a102-43b0-c80a-9d77c99510d5"
      },
      "execution_count": 11,
      "outputs": [
        {
          "name": "stdout",
          "output_type": "stream",
          "text": [
            "kanye\n"
          ]
        },
        {
          "output_type": "execute_result",
          "data": {
            "text/plain": [
              "132767279102896"
            ]
          },
          "metadata": {},
          "execution_count": 11
        }
      ]
    }
  ]
}