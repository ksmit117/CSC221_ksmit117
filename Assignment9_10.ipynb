{
  "nbformat": 4,
  "nbformat_minor": 0,
  "metadata": {
    "colab": {
      "provenance": [],
      "authorship_tag": "ABX9TyM648Rx5U95HwM481QypgaR",
      "include_colab_link": true
    },
    "kernelspec": {
      "name": "python3",
      "display_name": "Python 3"
    },
    "language_info": {
      "name": "python"
    }
  },
  "cells": [
    {
      "cell_type": "markdown",
      "metadata": {
        "id": "view-in-github",
        "colab_type": "text"
      },
      "source": [
        "<a href=\"https://colab.research.google.com/github/ksmit117/CSC221_ksmit117/blob/main/Assignment9_10.ipynb\" target=\"_parent\"><img src=\"https://colab.research.google.com/assets/colab-badge.svg\" alt=\"Open In Colab\"/></a>"
      ]
    },
    {
      "cell_type": "code",
      "execution_count": null,
      "metadata": {
        "colab": {
          "base_uri": "https://localhost:8080/"
        },
        "id": "bIQ6kBdIWXa_",
        "outputId": "2b5801bc-745c-4fc8-9c55-e0ccbeac962b"
      },
      "outputs": [
        {
          "output_type": "stream",
          "name": "stdout",
          "text": [
            "Example - MAT123 :MAT102\n",
            "Example - MAT123 :MAT201\n",
            "MAT102 class has already been taken\n",
            "MAT201 class has not been registered\n",
            "BUS203 class has not been registered\n",
            "ACC202 class has not been registered\n",
            "CLG210 class has not been registered\n"
          ]
        }
      ],
      "source": [
        "# Assignment 9\n",
        "#func 1\n",
        "def past_courses():\n",
        "  # these list represent classes that have been taken, classes that are registerd for the current semester, and classes that are still needed.\n",
        "\n",
        "\n",
        "  taken_classes = ['MAT102', 'ACC201',\"CSC123\", 'BUS300', 'CLP101', 'CMM118', 'ENG100', 'ENG101', 'PSC100']\n",
        "  registerd_classes = [input(\"Example - MAT123 :\"), input('Example - MAT123 :'), 'BUS203', 'ACC202', 'CLG210']\n",
        "\n",
        "  for registered in registerd_classes:\n",
        "    if registered in taken_classes:\n",
        "      print(registered,'class has already been taken')\n",
        "    else:\n",
        "      print(registered,'class has not been registered')\n",
        "past_courses()\n",
        "\n",
        "\n",
        "\n",
        "\n",
        "\n",
        "\n",
        "\n"
      ]
    },
    {
      "cell_type": "code",
      "source": [
        "# Assignment 9\n",
        "#func 2\n",
        "\n",
        "# this function takes in inputs and calculate the product\n",
        "def product():\n",
        "  x = int(input())\n",
        "  y = int(input())\n",
        "  product = x * y\n",
        "  return product\n",
        "product()"
      ],
      "metadata": {
        "colab": {
          "base_uri": "https://localhost:8080/"
        },
        "id": "99-OQw9snS5E",
        "outputId": "327da8c7-65d7-4407-ac60-5d09e37cf586"
      },
      "execution_count": null,
      "outputs": [
        {
          "name": "stdout",
          "output_type": "stream",
          "text": [
            "7\n",
            "78\n"
          ]
        },
        {
          "output_type": "execute_result",
          "data": {
            "text/plain": [
              "546"
            ]
          },
          "metadata": {},
          "execution_count": 1
        }
      ]
    },
    {
      "cell_type": "code",
      "source": [
        "# Assignment 9\n",
        "\n",
        "import random\n",
        "#this function will take the users input for the amount of charcters they want in there password\n",
        "def password_generator():\n",
        "  #these are the list that contains elements that can be used in a password\n",
        "  letters = ['a','b','c','d','e','f','g','h','i','j','k','l','m','n','o','p','q','r','s','t','u','v','w','x','y','z']\n",
        "  numbers = ['1','2','3','4','5','6','7','8','9','0']\n",
        "  symbols = [\"!\",\"@\",\"#\",'$',\"%\",\"^\",\"&\",\"*\",\"(\",\")\"]\n",
        "  #this ask for user input how many characters from each list you want in the password\n",
        "  num_letters = int(input(\"how many letters you want?: \"))\n",
        "  num_numbers = int(input(\"how many numbers you want?: \"))\n",
        "  num_symbols = int(input(\"how many symbols you want?: \"))\n",
        "\n",
        "  #the password length is the sum of how many characters the user wants\n",
        "  password_length = num_letters + num_symbols + num_numbers\n",
        "  password = password_creator(num_letters, num_numbers, num_symbols, numbers, symbols, letters)\n",
        "  print(password)\n",
        "\n",
        "def password_creator(num_letters, num_numbers, num_symbols, numbers, symbols, letters):\n",
        "  #this function creates the loop to choose random characters to put in the password, then adds it to the list\n",
        "  password = []\n",
        "  for i in range(num_letters):\n",
        "    password.append(random.choice(letters))\n",
        "  for i in range(num_numbers):\n",
        "    password.append(random.choice(numbers))\n",
        "  for i in range(num_symbols):\n",
        "    password.append(random.choice(symbols))\n",
        "  # This randomizes the characters and puts them in a random order\n",
        "  random.shuffle(password)\n",
        "  return password\n",
        "password_generator()\n",
        "\n",
        "\n"
      ],
      "metadata": {
        "colab": {
          "base_uri": "https://localhost:8080/"
        },
        "id": "hLZK0VkOiYi7",
        "outputId": "a0a39790-4bf5-461f-b42d-657b7e20d612"
      },
      "execution_count": null,
      "outputs": [
        {
          "output_type": "stream",
          "name": "stdout",
          "text": [
            "how many letters you want?: 1\n",
            "how many numbers you want?: 1\n",
            "how many symbols you want?: 1\n",
            "['t', '6', '*']\n"
          ]
        }
      ]
    },
    {
      "cell_type": "code",
      "source": [
        "1# Assignment 9\n",
        "#func 5\n",
        "\n",
        "# sorts highly rated shows\n",
        "\n",
        "def ratings():\n",
        "  tv_shows = { 'Spongebob' : 8.2, 'Teen Titans' : 7.9, 'Ben 10' : 7.5, 'Rick and Morty' : 9.1 }\n",
        "\n",
        "  shows_alphabetical_order = dict(sorted(tv_shows.items()))\n",
        "  shows_ratings_order = dict(sorted(tv_shows.items(), key=lambda item: item[1]))\n",
        "  print(shows_alphabetical_order)\n",
        "  print(shows_ratings_order)\n",
        "\n",
        "ratings()"
      ],
      "metadata": {
        "colab": {
          "base_uri": "https://localhost:8080/"
        },
        "id": "BLFnXyJqXzDP",
        "outputId": "513656c4-8d32-4683-de9a-0053b27ceb94"
      },
      "execution_count": null,
      "outputs": [
        {
          "output_type": "stream",
          "name": "stdout",
          "text": [
            "{'Ben 10': 7.5, 'Rick and Morty': 9.1, 'Spongebob': 8.2, 'Teen Titans': 7.9}\n",
            "{'Ben 10': 7.5, 'Teen Titans': 7.9, 'Spongebob': 8.2, 'Rick and Morty': 9.1}\n"
          ]
        }
      ]
    },
    {
      "cell_type": "code",
      "source": [
        "#Assignment 9\n",
        "#this function is a guessing game, where you guess a number 1-10 and if you dont guess the number correctly the game continues.\n",
        "\n",
        "import random\n",
        "def guessing_game():\n",
        "  x = range(1,11)\n",
        "  num = random.choice(x)\n",
        "  print(num)\n",
        "\n",
        "  guess = 11\n",
        "\n",
        "  while num != guess:\n",
        "      guess = int(input(\"Pick a number 1-10: \"))\n",
        "      if num > guess:\n",
        "          print(\"Too Low\")\n",
        "      elif num < guess:\n",
        "          print(\"Too High\")\n",
        "      elif num == guess:\n",
        "          print(\"correct\")\n",
        "          break\n",
        "guessing_game()"
      ],
      "metadata": {
        "id": "O0MZNX8KdhT7",
        "colab": {
          "base_uri": "https://localhost:8080/"
        },
        "outputId": "1c547ab0-a201-4c5e-fd0a-4700d405baeb"
      },
      "execution_count": null,
      "outputs": [
        {
          "output_type": "stream",
          "name": "stdout",
          "text": [
            "10\n",
            "Pick a number 1-10: 7\n",
            "Too Low\n",
            "Pick a number 1-10: 10\n",
            "correct\n"
          ]
        }
      ]
    },
    {
      "cell_type": "code",
      "source": [
        "#Assignment 9\n",
        "\n",
        "#this function will convert km to miles\n",
        "\n",
        "def km_converter():\n",
        "  km = int(input(\"Number of Kilometer to be converted: \"))\n",
        "  km_per_mile = 0.621371\n",
        "  mile = km * km_per_mile\n",
        "  print(mile)\n",
        "km_converter()\n",
        "\n",
        "\n",
        "\n"
      ],
      "metadata": {
        "colab": {
          "base_uri": "https://localhost:8080/"
        },
        "id": "4PimLSY2y7kD",
        "outputId": "9d60b2ee-6de2-4518-f7e9-789cb42f31dc"
      },
      "execution_count": null,
      "outputs": [
        {
          "output_type": "stream",
          "name": "stdout",
          "text": [
            "Number of Kilometer to be converted: 5000\n",
            "3106.855\n"
          ]
        }
      ]
    },
    {
      "cell_type": "code",
      "source": [
        "#Assignment 9\n",
        "# this function check if a number is divisible by 7\n",
        "def divisible():\n",
        "  number = int(input(\"input number: \"))\n",
        "  if number % 7 == 0:\n",
        "    print(number, \"is divisble by 7\")\n",
        "  else:\n",
        "    (print(number, \"is not divisble by 7\"))\n",
        "divisible()\n"
      ],
      "metadata": {
        "colab": {
          "base_uri": "https://localhost:8080/"
        },
        "id": "2mi3ZBAo3mC_",
        "outputId": "6aaf59d0-efcd-4061-9a2f-06b117f24cb4"
      },
      "execution_count": null,
      "outputs": [
        {
          "output_type": "stream",
          "name": "stdout",
          "text": [
            "input number: 70\n",
            "70 is divisble by 7\n"
          ]
        }
      ]
    },
    {
      "cell_type": "code",
      "source": [
        "#Assignment 9\n",
        "# this function checks if str is a palindrome\n",
        "def palindrome_fnder():\n",
        "  word = str(input())\n",
        "  rev_word = word[::-1]\n",
        "  if word == rev_word:\n",
        "    print(\"This word is a palindrome\")\n",
        "  else:\n",
        "    print(\"This word is not a palindrome\")\n",
        "\n",
        "palindrome_fnder()"
      ],
      "metadata": {
        "colab": {
          "base_uri": "https://localhost:8080/"
        },
        "id": "eaE1abht5Dl7",
        "outputId": "01080a67-6d83-426a-f2db-bd0ec2815b0c"
      },
      "execution_count": null,
      "outputs": [
        {
          "output_type": "stream",
          "name": "stdout",
          "text": [
            "spice ice\n",
            "This word is not a palindrome\n"
          ]
        }
      ]
    },
    {
      "cell_type": "code",
      "source": [
        "#Assignment 9\n",
        "#this function will check if a email is valid or not\n",
        "\n",
        "def email_checker():\n",
        "\n",
        "# this function checks if an email contains actual letters, numbers and has at least one @ and . symbol\n",
        "  letters = str(['a','b','c','d','e','f','g','h','i','j','k','l','m','n','o','p','q','r','s','t','u','v','w','x','y','z'])\n",
        "  numbers = ['1','2','3','4','5','6','7','8','9','0']\n",
        "  email = str(input(\"ex. Kal121@Plattsburgh.edu Email: \"))\n",
        "  if '@' in email:\n",
        "    print(\"Does this email contain a @ symbol? :\",True)\n",
        "  else:\n",
        "    print(\"Does this email contain a @ symbol? :\",False)\n",
        "\n",
        "  if '.' in email:\n",
        "    print(\"Does this email contain a . symbol? :\",True)\n",
        "  else:\n",
        "    print(\"Does this email contain a . symbol? :\",False)\n",
        "\n",
        "  if email[0] in letters or email[0] in numbers:\n",
        "    print(\"Does this email start with a letter or a number? :\",True)\n",
        "  else:\n",
        "    print(\"Does this email start with a letter or a number? :\",False)\n",
        "\n",
        "email_checker()\n",
        "\n"
      ],
      "metadata": {
        "colab": {
          "base_uri": "https://localhost:8080/"
        },
        "id": "G57p3uHc6NYb",
        "outputId": "e880f738-ef4e-455f-8cd0-890399e0e5fd"
      },
      "execution_count": null,
      "outputs": [
        {
          "output_type": "stream",
          "name": "stdout",
          "text": [
            "ex. Kal121@Plattsburgh.edu Email: smithkalvin393gmail.com\n",
            "Does this email contain a @ symbol? : False\n",
            "Does this email contain a . symbol? : True\n",
            "Does this email start with a letter or a number? : True\n"
          ]
        }
      ]
    },
    {
      "cell_type": "code",
      "source": [],
      "metadata": {
        "id": "7U_NaS5W9qKE"
      },
      "execution_count": null,
      "outputs": []
    }
  ]
}