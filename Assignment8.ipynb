{
  "nbformat": 4,
  "nbformat_minor": 0,
  "metadata": {
    "colab": {
      "provenance": [],
      "authorship_tag": "ABX9TyP16N3cTg0XHiGMngmA2JAs",
      "include_colab_link": true
    },
    "kernelspec": {
      "name": "python3",
      "display_name": "Python 3"
    },
    "language_info": {
      "name": "python"
    }
  },
  "cells": [
    {
      "cell_type": "markdown",
      "metadata": {
        "id": "view-in-github",
        "colab_type": "text"
      },
      "source": [
        "<a href=\"https://colab.research.google.com/github/ksmit117/CSC221_ksmit117/blob/main/Assignment8.ipynb\" target=\"_parent\"><img src=\"https://colab.research.google.com/assets/colab-badge.svg\" alt=\"Open In Colab\"/></a>"
      ]
    },
    {
      "cell_type": "code",
      "execution_count": 27,
      "metadata": {
        "colab": {
          "base_uri": "https://localhost:8080/"
        },
        "id": "qMXNPts4haws",
        "outputId": "5f4aacd4-815d-4b3a-b2f2-77ad96141d23"
      },
      "outputs": [
        {
          "output_type": "stream",
          "name": "stdout",
          "text": [
            "Book Title: Milkweed\n",
            "Milkweed is my favorite book\n"
          ]
        }
      ],
      "source": [
        "# 8-2\n",
        "\n",
        "def favorite_book():\n",
        "  print(\"Book Title:\", \"Milkweed\")\n",
        "  print(\"Milkweed is my favorite book\")\n",
        "\n",
        "favorite_book()\n"
      ]
    },
    {
      "cell_type": "code",
      "source": [
        "# 8-3\n",
        "\n",
        "def make_shirt():\n",
        "  shirt_size = input(\"Shirt size: \")\n",
        "  shirt_message = input(\"Message On Shirt: \")\n",
        "  print(\"size:\", shirt_size, \"\\nMessage:\", shirt_message)\n",
        "\n",
        "make_shirt()\n",
        "\n",
        "make_shirt()"
      ],
      "metadata": {
        "colab": {
          "base_uri": "https://localhost:8080/"
        },
        "id": "AaKiYZGDiCt3",
        "outputId": "7a2c5c3b-797f-40a2-ccca-09e19c348e7a"
      },
      "execution_count": 28,
      "outputs": [
        {
          "output_type": "stream",
          "name": "stdout",
          "text": [
            "Shirt size: M\n",
            "Message On Shirt: YESSIR\n",
            "size: M \n",
            "Message: YESSIR\n",
            "Shirt size: m\n",
            "Message On Shirt: yessir\n",
            "size: m \n",
            "Message: yessir\n"
          ]
        }
      ]
    },
    {
      "cell_type": "code",
      "source": [
        "# 8-4\n",
        "\n",
        "def make_shirt():\n",
        "  shirt_size = \"L\"\n",
        "  shirt_message = \"I Love Python\"\n",
        "  Large_shirt = \"Basketball\"\n",
        "  Medium_shirt = \"Soccer\"\n",
        "  xs_shirt = \"spongebob\"\n",
        "  print(shirt_message)\n",
        "  print_\n",
        "make_shirt()\n",
        "\n",
        "\n",
        ""
      ],
      "metadata": {
        "colab": {
          "base_uri": "https://localhost:8080/"
        },
        "id": "XoPQN8HXi-lb",
        "outputId": "f676dc7c-910d-4922-f841-7d1fffca7a70"
      },
      "execution_count": 29,
      "outputs": [
        {
          "output_type": "stream",
          "name": "stdout",
          "text": [
            "I Love Python\n"
          ]
        }
      ]
    },
    {
      "cell_type": "code",
      "source": [
        "#Assignment 8\n",
        "# 1st case\n",
        "def func8(a=23, b=2, c=42):\n",
        "  #takes in three different numbers\n",
        "  num_list = [a, b, c]\n",
        "  product = a * b * c\n",
        "  sum = a + b + c\n",
        "  #Caculate the numbers product and sum\n",
        "\n",
        "  num_list.sort()\n",
        "  #sorts list\n",
        "  #displays the calculations\n",
        "  print(num_list)\n",
        "  print(\"product of list:\", product)\n",
        "  print(\"sum of list:\",sum)\n",
        "func8()"
      ],
      "metadata": {
        "colab": {
          "base_uri": "https://localhost:8080/"
        },
        "id": "vVCVeW1KlZQB",
        "outputId": "d165ad6c-2227-4e94-f91d-d8ae3d2af7f0"
      },
      "execution_count": 24,
      "outputs": [
        {
          "output_type": "stream",
          "name": "stdout",
          "text": [
            "[2, 23, 42]\n",
            "product of list: 1932\n",
            "sum of list: 67\n"
          ]
        }
      ]
    },
    {
      "cell_type": "code",
      "source": [
        "#Assignment 8\n",
        "# second case\n",
        "def func8(a=10, b=5, c=42):\n",
        "  num_list = [a, b, c]\n",
        "  product = a * b * c\n",
        "  sum = a + b + c\n",
        "  num_list.sort()\n",
        "  print(num_list)\n",
        "  print(\"product of list:\", product)\n",
        "  print(\"sum of list:\",sum)\n",
        "func8()"
      ],
      "metadata": {
        "colab": {
          "base_uri": "https://localhost:8080/"
        },
        "id": "u_dECFmcN-xs",
        "outputId": "b68ce93f-5192-412a-b763-0c1c1cc9419c"
      },
      "execution_count": 23,
      "outputs": [
        {
          "output_type": "stream",
          "name": "stdout",
          "text": [
            "[5, 10, 42]\n",
            "product of list: 2100\n",
            "sum of list: 57\n"
          ]
        }
      ]
    },
    {
      "cell_type": "code",
      "source": [
        "#Assignment 8\n",
        "# third case\n",
        "def func8(a=83, b=12, c=1):\n",
        "  num_list = [a, b, c]\n",
        "  product = a * b * c\n",
        "  sum = a + b + c\n",
        "  num_list.sort()\n",
        "  print(num_list)\n",
        "  print(\"product of list:\", product)\n",
        "  print(\"sum of list:\",sum)\n",
        "func8()"
      ],
      "metadata": {
        "colab": {
          "base_uri": "https://localhost:8080/"
        },
        "id": "ROaLUpLqO5oA",
        "outputId": "366217c2-2d1b-46c7-fbf8-c8f36dfaff12"
      },
      "execution_count": 25,
      "outputs": [
        {
          "output_type": "stream",
          "name": "stdout",
          "text": [
            "[1, 12, 83]\n",
            "product of list: 996\n",
            "sum of list: 96\n"
          ]
        }
      ]
    }
  ]
}