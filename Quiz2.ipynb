{
  "nbformat": 4,
  "nbformat_minor": 0,
  "metadata": {
    "colab": {
      "provenance": [],
      "authorship_tag": "ABX9TyP99Gw8/3E0Nrn8aUIUz1xI",
      "include_colab_link": true
    },
    "kernelspec": {
      "name": "python3",
      "display_name": "Python 3"
    },
    "language_info": {
      "name": "python"
    }
  },
  "cells": [
    {
      "cell_type": "markdown",
      "metadata": {
        "id": "view-in-github",
        "colab_type": "text"
      },
      "source": [
        "<a href=\"https://colab.research.google.com/github/ksmit117/CSC221_ksmit117/blob/main/Quiz2.ipynb\" target=\"_parent\"><img src=\"https://colab.research.google.com/assets/colab-badge.svg\" alt=\"Open In Colab\"/></a>"
      ]
    },
    {
      "cell_type": "code",
      "execution_count": null,
      "metadata": {
        "colab": {
          "base_uri": "https://localhost:8080/"
        },
        "id": "g2se1ps7Phm1",
        "outputId": "bcd2b079-16d5-4571-cdc7-a86fb1a36dc0"
      },
      "outputs": [
        {
          "output_type": "stream",
          "name": "stdout",
          "text": [
            "None\n"
          ]
        }
      ],
      "source": [
        "# none\n",
        "x = None\n",
        "print(x)"
      ]
    },
    {
      "cell_type": "code",
      "source": [
        "#break\n",
        "for i in range(0,9):\n",
        "  if i > 1:\n",
        "    print(i)\n",
        "    break\n",
        "# if there was no break thank the loop will contiunue until 9"
      ],
      "metadata": {
        "colab": {
          "base_uri": "https://localhost:8080/"
        },
        "id": "z4Ml_1pVQAa5",
        "outputId": "324dca06-4118-40d5-fdaf-9bdb6d77870f"
      },
      "execution_count": null,
      "outputs": [
        {
          "output_type": "stream",
          "name": "stdout",
          "text": [
            "2\n"
          ]
        }
      ]
    },
    {
      "cell_type": "code",
      "source": [
        "# try & except\n",
        "\n",
        "try:\n",
        "  print(random_input)\n",
        "except:\n",
        "  print(\"Variable not defined\")"
      ],
      "metadata": {
        "colab": {
          "base_uri": "https://localhost:8080/"
        },
        "id": "ArU0CVJURFuM",
        "outputId": "f9a6eaa9-8499-4736-c7b1-68a356d02d63"
      },
      "execution_count": null,
      "outputs": [
        {
          "output_type": "stream",
          "name": "stdout",
          "text": [
            "Variable not defined\n"
          ]
        }
      ]
    },
    {
      "cell_type": "code",
      "source": [
        "# in\n",
        "\n",
        "NBA_Playoff_Teams = ['New York Knicks', 'Denver Nuggets', \"Dallas MAvericks\", 'Indiana Pacers']\n",
        "\n",
        "for Playoff_team in NBA_Playoff_Teams:\n",
        "  print(Playoff_team)\n"
      ],
      "metadata": {
        "colab": {
          "base_uri": "https://localhost:8080/"
        },
        "id": "dnkEZ-SZSMLU",
        "outputId": "b63fab43-62d8-4101-d0f5-d89c1bfe5ce5"
      },
      "execution_count": null,
      "outputs": [
        {
          "output_type": "stream",
          "name": "stdout",
          "text": [
            "New York Knicks\n",
            "Denver Nuggets\n",
            "Dallas MAvericks\n",
            "Indiana Pacers\n"
          ]
        }
      ]
    },
    {
      "cell_type": "code",
      "source": [
        "# raise\n",
        "y = range(0, 8)\n",
        "\n",
        "for i in y:\n",
        "    print(i)\n",
        "    if i == 5:\n",
        "        raise ValueError(\"Sorry, number raised too high\")\n"
      ],
      "metadata": {
        "colab": {
          "base_uri": "https://localhost:8080/",
          "height": 275
        },
        "id": "RggxEjfGUMAL",
        "outputId": "1efcd3f9-386c-4653-9f39-5abf08b12ccd"
      },
      "execution_count": null,
      "outputs": [
        {
          "output_type": "stream",
          "name": "stdout",
          "text": [
            "0\n",
            "1\n",
            "2\n",
            "3\n",
            "4\n",
            "5\n"
          ]
        },
        {
          "output_type": "error",
          "ename": "ValueError",
          "evalue": "Sorry, number raised too high",
          "traceback": [
            "\u001b[0;31m---------------------------------------------------------------------------\u001b[0m",
            "\u001b[0;31mValueError\u001b[0m                                Traceback (most recent call last)",
            "\u001b[0;32m<ipython-input-45-77cf0a073533>\u001b[0m in \u001b[0;36m<cell line: 4>\u001b[0;34m()\u001b[0m\n\u001b[1;32m      5\u001b[0m     \u001b[0mprint\u001b[0m\u001b[0;34m(\u001b[0m\u001b[0mi\u001b[0m\u001b[0;34m)\u001b[0m\u001b[0;34m\u001b[0m\u001b[0;34m\u001b[0m\u001b[0m\n\u001b[1;32m      6\u001b[0m     \u001b[0;32mif\u001b[0m \u001b[0mi\u001b[0m \u001b[0;34m==\u001b[0m \u001b[0;36m5\u001b[0m\u001b[0;34m:\u001b[0m\u001b[0;34m\u001b[0m\u001b[0;34m\u001b[0m\u001b[0m\n\u001b[0;32m----> 7\u001b[0;31m         \u001b[0;32mraise\u001b[0m \u001b[0mValueError\u001b[0m\u001b[0;34m(\u001b[0m\u001b[0;34m\"Sorry, number raised too high\"\u001b[0m\u001b[0;34m)\u001b[0m\u001b[0;34m\u001b[0m\u001b[0;34m\u001b[0m\u001b[0m\n\u001b[0m",
            "\u001b[0;31mValueError\u001b[0m: Sorry, number raised too high"
          ]
        }
      ]
    },
    {
      "cell_type": "code",
      "source": [
        "# True & False\n",
        "\n",
        "print(10 > 9)\n",
        "print( 10 < 9)\n"
      ],
      "metadata": {
        "id": "Sa1rnKdHU-Qm",
        "colab": {
          "base_uri": "https://localhost:8080/"
        },
        "outputId": "61101092-2002-487c-d44a-152b066bef4f"
      },
      "execution_count": null,
      "outputs": [
        {
          "output_type": "stream",
          "name": "stdout",
          "text": [
            "True\n",
            "False\n"
          ]
        }
      ]
    },
    {
      "cell_type": "code",
      "source": [
        "#async & await\n",
        "import asyncio\n",
        "\n",
        "async def my_coroutine():\n",
        "    print(\"Start coroutine\")\n",
        "    await asyncio.sleep(1)\n",
        "    print(\"End coroutine\")\n",
        "\n",
        "async def main():\n",
        "    print(\"Before coroutine call\")\n",
        "    await my_coroutine()\n",
        "    print(\"After coroutine call\")\n",
        "\n",
        "\n",
        "await main()\n"
      ],
      "metadata": {
        "colab": {
          "base_uri": "https://localhost:8080/"
        },
        "id": "ufoZaT_gYraL",
        "outputId": "8c8cd435-1988-474d-ef58-45b8066530d0"
      },
      "execution_count": null,
      "outputs": [
        {
          "output_type": "stream",
          "name": "stdout",
          "text": [
            "Before coroutine call\n",
            "Start coroutine\n",
            "End coroutine\n",
            "After coroutine call\n"
          ]
        }
      ]
    },
    {
      "cell_type": "code",
      "source": [
        "# if & else\n",
        "\n",
        "\n",
        "x = 12\n",
        "y = 2\n",
        "\n",
        "if x > y:\n",
        "  print(\"x is greater than y\")\n",
        "else:\n",
        "  print(\"y is greater than x\")"
      ],
      "metadata": {
        "id": "bHQxGbGjbKuW"
      },
      "execution_count": null,
      "outputs": []
    },
    {
      "cell_type": "code",
      "source": [
        "#import & from\n",
        "from random import randint\n",
        "\n",
        "rand_num = randint(0,99)\n",
        "\n",
        "print(rand_num)"
      ],
      "metadata": {
        "colab": {
          "base_uri": "https://localhost:8080/"
        },
        "id": "hCXAxqtS3DSZ",
        "outputId": "5eb6fdaf-fd89-4cbc-cedf-7d0836ccd137"
      },
      "execution_count": null,
      "outputs": [
        {
          "output_type": "stream",
          "name": "stdout",
          "text": [
            "72\n"
          ]
        }
      ]
    },
    {
      "cell_type": "code",
      "source": [
        "#pass\n",
        "\n",
        "x = range(0,9)\n",
        "\n",
        "#skips 5\n",
        "for i in x:\n",
        "  if i == 5:\n",
        "    pass\n",
        "  else:\n",
        "    print(i)\n",
        "\n",
        "\n"
      ],
      "metadata": {
        "colab": {
          "base_uri": "https://localhost:8080/"
        },
        "id": "9fjF4wwI3bdy",
        "outputId": "b2f750cb-c493-4a33-8e25-fbfba76ae03e"
      },
      "execution_count": null,
      "outputs": [
        {
          "output_type": "stream",
          "name": "stdout",
          "text": [
            "0\n",
            "1\n",
            "2\n",
            "3\n",
            "4\n",
            "6\n",
            "7\n",
            "8\n"
          ]
        }
      ]
    },
    {
      "cell_type": "code",
      "source": [
        "#and\n",
        "\n",
        "x = 9\n",
        "y = 9\n",
        "z = 12\n",
        "\n",
        "#only one condition is met\n",
        "if x == y and x == z:\n",
        "  print(True)\n",
        "else:\n",
        "  print(False)\n",
        "\n",
        "#both conditions are met\n",
        "if x == y and x < z:\n",
        "  print(True)\n",
        "else:\n",
        "  print(False)"
      ],
      "metadata": {
        "colab": {
          "base_uri": "https://localhost:8080/"
        },
        "id": "-sC6zgYvlgAF",
        "outputId": "dc5f100f-da52-4223-f8ef-9a8c9105d14a"
      },
      "execution_count": null,
      "outputs": [
        {
          "output_type": "stream",
          "name": "stdout",
          "text": [
            "False\n",
            "True\n"
          ]
        }
      ]
    },
    {
      "cell_type": "code",
      "source": [
        "#continue\n",
        "x = 10\n",
        "for i in range(x):\n",
        "    i += 1\n",
        "    if i == 11:\n",
        "        continue\n",
        "    print(i)\n"
      ],
      "metadata": {
        "colab": {
          "base_uri": "https://localhost:8080/"
        },
        "id": "h9cfozWtl-4C",
        "outputId": "cb6c38f8-c1a0-4545-a61d-3ad42f8b141c"
      },
      "execution_count": null,
      "outputs": [
        {
          "output_type": "stream",
          "name": "stdout",
          "text": [
            "1\n",
            "2\n",
            "3\n",
            "4\n",
            "5\n",
            "6\n",
            "7\n",
            "8\n",
            "9\n",
            "10\n"
          ]
        }
      ]
    },
    {
      "cell_type": "code",
      "source": [
        "#for\n",
        "\n",
        "sports_teams = ['New York Knicks', 'New York Yankees', 'New York Jets' ]\n",
        "\n",
        "for team in sports_teams:\n",
        "  print(team)"
      ],
      "metadata": {
        "colab": {
          "base_uri": "https://localhost:8080/"
        },
        "id": "FwOaRHaanfqk",
        "outputId": "1a36e352-e045-4497-ca60-95b3ed6d91a3"
      },
      "execution_count": null,
      "outputs": [
        {
          "output_type": "stream",
          "name": "stdout",
          "text": [
            "New York Knicks\n",
            "New York Yankees\n",
            "New York Jets\n"
          ]
        }
      ]
    },
    {
      "cell_type": "code",
      "source": [
        "#lambda\n",
        "\n",
        "# sorts highly rated shows\n",
        "\n",
        "def ratings():\n",
        "  tv_shows = { 'Spongebob' : 8.2, 'Teen Titans' : 7.9, 'Ben 10' : 7.5, 'Rick and Morty' : 9.1 }\n",
        "  shows_ratings_order = dict(sorted(tv_shows.items(), key=lambda item: item[1]))\n",
        "  print(shows_ratings_order)\n",
        "ratings()"
      ],
      "metadata": {
        "colab": {
          "base_uri": "https://localhost:8080/"
        },
        "id": "5WhBFYxbovHh",
        "outputId": "f0047d15-cc45-4372-fa43-53f2a6da52d6"
      },
      "execution_count": null,
      "outputs": [
        {
          "output_type": "stream",
          "name": "stdout",
          "text": [
            "{'Ben 10': 7.5, 'Rick and Morty': 9.1, 'Spongebob': 8.2, 'Teen Titans': 7.9}\n",
            "{'Ben 10': 7.5, 'Teen Titans': 7.9, 'Spongebob': 8.2, 'Rick and Morty': 9.1}\n"
          ]
        }
      ]
    },
    {
      "cell_type": "code",
      "source": [
        "#Class\n",
        "class Restaurant:\n",
        "  def __init__(self, restaurant_name, cuisine_type):\n",
        "    self.restaurant_name = restaurant_name\n",
        "    self.cuisine_type = cuisine_type\n",
        "\n",
        "  def describe_restaurant(self):\n",
        "\n",
        "    print(f\"The name of the restaurant is:\", self.restaurant_name)\n",
        "    print(f\"The cuisine type of the restaurant is:\", self.cuisine_type)\n",
        "\n",
        "  def open_restaurant(self):\n",
        "    print(f\"restaurant is open\")\n",
        "\n",
        "restaurant = Restaurant(\"Korean BBQ\", \"Korean\")\n",
        "\n",
        "print(restaurant.restaurant_name)\n",
        "print(restaurant.cuisine_type)\n",
        "\n",
        "restaurant.describe_restaurant()\n",
        "restaurant.open_restaurant()"
      ],
      "metadata": {
        "colab": {
          "base_uri": "https://localhost:8080/"
        },
        "id": "dar3gzRvtTeD",
        "outputId": "a4266c88-8f4d-4e68-a429-be527ce11ec0"
      },
      "execution_count": null,
      "outputs": [
        {
          "output_type": "stream",
          "name": "stdout",
          "text": [
            "Korean BBQ\n",
            "Korean\n",
            "The name of the restaurant is: Korean BBQ\n",
            "The cuisine type of the restaurant is: Korean\n",
            "restaurant is open\n"
          ]
        }
      ]
    },
    {
      "cell_type": "code",
      "source": [
        "#is\n",
        "names = ['Nico', 'James', 'Roudhy']\n",
        "surname = ['James', 'Rodriguez', 'West']\n",
        "\n",
        "print(names is surname)\n",
        "print(names[1] is surname[0])"
      ],
      "metadata": {
        "id": "bfRcl2kVxLJb",
        "colab": {
          "base_uri": "https://localhost:8080/"
        },
        "outputId": "a05d9e14-81ac-4ebc-8706-37e08900c04e"
      },
      "execution_count": null,
      "outputs": [
        {
          "output_type": "stream",
          "name": "stdout",
          "text": [
            "False\n",
            "True\n"
          ]
        }
      ]
    },
    {
      "cell_type": "code",
      "source": [
        "#def\n",
        "def square_root():\n",
        "  num = int(input(f\"enter a number: \"))\n",
        "  squared_num = num ** 2\n",
        "  return squared_num\n",
        "\n",
        "result = square_root()\n",
        "print(result)"
      ],
      "metadata": {
        "colab": {
          "base_uri": "https://localhost:8080/"
        },
        "id": "wyPKFiK3qliH",
        "outputId": "b1e9bbaf-c2f3-48f7-b34f-a603d07ab14e"
      },
      "execution_count": null,
      "outputs": [
        {
          "output_type": "stream",
          "name": "stdout",
          "text": [
            "enter a number: 9\n",
            "81\n"
          ]
        }
      ]
    },
    {
      "cell_type": "code",
      "source": [
        "#nonlocal\n",
        "\n",
        "def outer_function():\n",
        "    x = 10\n",
        "    def inner_function():\n",
        "        nonlocal x\n",
        "        x = 20\n",
        "        print(\"Inner function:\", x)\n",
        "\n",
        "    inner_function()\n",
        "    print(\"Outer function:\", x)\n",
        "\n",
        "outer_function()\n"
      ],
      "metadata": {
        "colab": {
          "base_uri": "https://localhost:8080/"
        },
        "id": "lPZXDplM8iPN",
        "outputId": "9c77755a-5f13-41fa-b0f4-8cfb7a30c839"
      },
      "execution_count": null,
      "outputs": [
        {
          "output_type": "stream",
          "name": "stdout",
          "text": [
            "Inner function: 20\n",
            "Outer function: 20\n"
          ]
        }
      ]
    },
    {
      "cell_type": "code",
      "source": [
        "#while\n",
        "\n",
        "x = 0\n",
        "while x <= 9:\n",
        "  x += 1\n",
        "  print(x)"
      ],
      "metadata": {
        "colab": {
          "base_uri": "https://localhost:8080/"
        },
        "id": "lctFZ8Jw-OmV",
        "outputId": "36223c90-132f-4d69-98b4-b749c63626ea"
      },
      "execution_count": null,
      "outputs": [
        {
          "output_type": "stream",
          "name": "stdout",
          "text": [
            "1\n",
            "2\n",
            "3\n",
            "4\n",
            "5\n",
            "6\n",
            "7\n",
            "8\n",
            "9\n",
            "10\n"
          ]
        }
      ]
    },
    {
      "cell_type": "code",
      "source": [
        "#if & elif\n",
        "\n",
        "user_num = int(input(\"number: \"))\n",
        "\n",
        "print(user_num)\n",
        "\n",
        "if user_num < 7:\n",
        "    print(f\"number is to small\")\n",
        "elif  user_num > 7:\n",
        "    print(f\"To Big\")\n",
        "elif user_num == 7:\n",
        "    print(f\"Perfect\")"
      ],
      "metadata": {
        "colab": {
          "base_uri": "https://localhost:8080/"
        },
        "id": "zaI8oSec_9TY",
        "outputId": "96ea5428-d888-488d-ff5f-7ed4c2487e2b"
      },
      "execution_count": null,
      "outputs": [
        {
          "output_type": "stream",
          "name": "stdout",
          "text": [
            "number: 8\n",
            "8\n",
            "To Big\n"
          ]
        }
      ]
    },
    {
      "cell_type": "code",
      "source": [
        "#not\n",
        "\n",
        "x = False\n",
        "\n",
        "print(not x)\n",
        "print(x)\n",
        "\n",
        "\n",
        "x = True\n",
        "\n",
        "print(not x)\n",
        "print(x)"
      ],
      "metadata": {
        "colab": {
          "base_uri": "https://localhost:8080/"
        },
        "id": "ZifMbUCdAq55",
        "outputId": "e946c116-b1dd-4a53-bbbf-2871b69b45d4"
      },
      "execution_count": null,
      "outputs": [
        {
          "output_type": "stream",
          "name": "stdout",
          "text": [
            "True\n",
            "False\n",
            "False\n",
            "True\n"
          ]
        }
      ]
    },
    {
      "cell_type": "code",
      "source": [
        "#with\n",
        "\n",
        "# Opening a file using 'with'\n",
        "with open('example.txt', 'r') as file:\n",
        "    data = file.read()\n",
        "    print(data)\n",
        "\n",
        "# File is automatically closed after exiting the 'with' block\n"
      ],
      "metadata": {
        "colab": {
          "base_uri": "https://localhost:8080/",
          "height": 207
        },
        "id": "ErtR9zcWBZtn",
        "outputId": "480ab0b0-71b4-444b-d635-38e28b83712a"
      },
      "execution_count": null,
      "outputs": [
        {
          "output_type": "error",
          "ename": "FileNotFoundError",
          "evalue": "[Errno 2] No such file or directory: 'example.txt'",
          "traceback": [
            "\u001b[0;31m---------------------------------------------------------------------------\u001b[0m",
            "\u001b[0;31mFileNotFoundError\u001b[0m                         Traceback (most recent call last)",
            "\u001b[0;32m<ipython-input-27-d1b5ecb87dc6>\u001b[0m in \u001b[0;36m<cell line: 4>\u001b[0;34m()\u001b[0m\n\u001b[1;32m      2\u001b[0m \u001b[0;34m\u001b[0m\u001b[0m\n\u001b[1;32m      3\u001b[0m \u001b[0;31m# Opening a file using 'with'\u001b[0m\u001b[0;34m\u001b[0m\u001b[0;34m\u001b[0m\u001b[0m\n\u001b[0;32m----> 4\u001b[0;31m \u001b[0;32mwith\u001b[0m \u001b[0mopen\u001b[0m\u001b[0;34m(\u001b[0m\u001b[0;34m'example.txt'\u001b[0m\u001b[0;34m,\u001b[0m \u001b[0;34m'r'\u001b[0m\u001b[0;34m)\u001b[0m \u001b[0;32mas\u001b[0m \u001b[0mfile\u001b[0m\u001b[0;34m:\u001b[0m\u001b[0;34m\u001b[0m\u001b[0;34m\u001b[0m\u001b[0m\n\u001b[0m\u001b[1;32m      5\u001b[0m     \u001b[0mdata\u001b[0m \u001b[0;34m=\u001b[0m \u001b[0mfile\u001b[0m\u001b[0;34m.\u001b[0m\u001b[0mread\u001b[0m\u001b[0;34m(\u001b[0m\u001b[0;34m)\u001b[0m\u001b[0;34m\u001b[0m\u001b[0;34m\u001b[0m\u001b[0m\n\u001b[1;32m      6\u001b[0m     \u001b[0mprint\u001b[0m\u001b[0;34m(\u001b[0m\u001b[0mdata\u001b[0m\u001b[0;34m)\u001b[0m\u001b[0;34m\u001b[0m\u001b[0;34m\u001b[0m\u001b[0m\n",
            "\u001b[0;31mFileNotFoundError\u001b[0m: [Errno 2] No such file or directory: 'example.txt'"
          ]
        }
      ]
    },
    {
      "cell_type": "code",
      "source": [
        "#assert\n",
        "x = 'knicks'\n",
        "\n",
        "assert x == 'Pacers'\n",
        "assert x == 'knicks'\n"
      ],
      "metadata": {
        "id": "VgNazbomCcwY"
      },
      "execution_count": null,
      "outputs": []
    },
    {
      "cell_type": "code",
      "source": [
        "#del\n",
        "\n",
        "x =['Grapes', 'starwberries', 'cherry']\n",
        "\n",
        "del x[0]\n",
        "\n",
        "print(x)"
      ],
      "metadata": {
        "colab": {
          "base_uri": "https://localhost:8080/"
        },
        "id": "WH5Av3u0CnhH",
        "outputId": "d6b66c2a-2bd5-49c5-ee4b-9a60570230e2"
      },
      "execution_count": null,
      "outputs": [
        {
          "output_type": "stream",
          "name": "stdout",
          "text": [
            "['starwberries', 'cherry']\n"
          ]
        }
      ]
    },
    {
      "cell_type": "code",
      "source": [
        "#global\n",
        "x = 10\n",
        "\n",
        "def modify_global():\n",
        "    global x\n",
        "    x = 20\n",
        "\n",
        "print(\"Before:\", x)\n",
        "modify_global()\n",
        "print(\"After:\", x)\n"
      ],
      "metadata": {
        "id": "Q4IhQF6mDqwf"
      },
      "execution_count": null,
      "outputs": []
    },
    {
      "cell_type": "code",
      "source": [
        "#or\n",
        "\n",
        "x = 9\n",
        "y = 9\n",
        "z = 12\n",
        "\n",
        "#only one condition is met\n",
        "if x == y or x > z:\n",
        "  print(True)\n",
        "else:\n",
        "  print(False)\n",
        "\n",
        "#no conditions are met\n",
        "if x > y or x > z:\n",
        "  print(True)\n",
        "else:\n",
        "  print(False)"
      ],
      "metadata": {
        "colab": {
          "base_uri": "https://localhost:8080/"
        },
        "id": "g2vqjRQBESND",
        "outputId": "4547eae7-3575-42f7-8f94-bdf65caea4a0"
      },
      "execution_count": null,
      "outputs": [
        {
          "output_type": "stream",
          "name": "stdout",
          "text": [
            "True\n",
            "False\n"
          ]
        }
      ]
    },
    {
      "cell_type": "code",
      "source": [
        "#yield\n",
        "def my_generator():\n",
        "    yield 1\n",
        "    yield 2\n",
        "    yield 3\n",
        "\n",
        "\n",
        "gen = my_generator()\n",
        "\n",
        "\n",
        "for value in gen:\n",
        "    print(value)\n"
      ],
      "metadata": {
        "colab": {
          "base_uri": "https://localhost:8080/"
        },
        "id": "buMlSCJjFKZF",
        "outputId": "c4a84df3-fe7b-4688-ff76-c0f378c14bbd"
      },
      "execution_count": null,
      "outputs": [
        {
          "output_type": "stream",
          "name": "stdout",
          "text": [
            "1\n",
            "2\n",
            "3\n"
          ]
        }
      ]
    }
  ]
}