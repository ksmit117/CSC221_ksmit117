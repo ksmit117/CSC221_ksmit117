{
  "nbformat": 4,
  "nbformat_minor": 0,
  "metadata": {
    "colab": {
      "provenance": [],
      "authorship_tag": "ABX9TyMN6hf2T3N1Z8IAFyc75ELT",
      "include_colab_link": true
    },
    "kernelspec": {
      "name": "python3",
      "display_name": "Python 3"
    },
    "language_info": {
      "name": "python"
    }
  },
  "cells": [
    {
      "cell_type": "markdown",
      "metadata": {
        "id": "view-in-github",
        "colab_type": "text"
      },
      "source": [
        "<a href=\"https://colab.research.google.com/github/ksmit117/CSC221_ksmit117/blob/main/Assignment4.ipynb\" target=\"_parent\"><img src=\"https://colab.research.google.com/assets/colab-badge.svg\" alt=\"Open In Colab\"/></a>"
      ]
    },
    {
      "cell_type": "code",
      "execution_count": null,
      "metadata": {
        "colab": {
          "base_uri": "https://localhost:8080/"
        },
        "id": "zvobFKWJFL2F",
        "outputId": "a6bac839-93e4-44f1-a2e4-b7af7d398ec6"
      },
      "outputs": [
        {
          "output_type": "stream",
          "name": "stdout",
          "text": [
            "Ben\n",
            "Mouhamed\n",
            "Kevin\n"
          ]
        }
      ],
      "source": [
        "# 3-1\n",
        "names = ['Ben', 'Mouhamed', 'Kevin']\n",
        "print(names[0])\n",
        "print(names[1])\n",
        "print(names[2])"
      ]
    },
    {
      "cell_type": "code",
      "source": [
        "# 3-2\n",
        "names = ['Ben', 'Mouhamed', 'Kevin']\n",
        "print(f\"Good Morning,\",names[0])\n",
        "print(f\"Good Morning,\",names[1])\n",
        "print(f\"Good Morning,\",names[2])\n"
      ],
      "metadata": {
        "colab": {
          "base_uri": "https://localhost:8080/"
        },
        "id": "3XbJaYxXJSv4",
        "outputId": "e0db8ecc-49cf-4ee2-c066-76bcc93c4b9c"
      },
      "execution_count": null,
      "outputs": [
        {
          "output_type": "stream",
          "name": "stdout",
          "text": [
            "Good Morning, Ben\n",
            "Good Morning, Mouhamed\n",
            "Good Morning, Kevin\n"
          ]
        }
      ]
    },
    {
      "cell_type": "code",
      "source": [
        "# 3-3\n",
        "vehicle = [\"Tesla\", \"Motorcycle\", \"Plane\"]\n",
        "print(f\"My dream car is a\", vehicle[0])\n",
        "print(f\"I want to get a licesne to drive a\", vehicle[1])\n",
        "print(f\"I want to learn how to fly a\", vehicle[2])"
      ],
      "metadata": {
        "colab": {
          "base_uri": "https://localhost:8080/"
        },
        "id": "oxvOTw3SJrqU",
        "outputId": "ac77778f-a667-4eb7-e8d5-408636c54b9f"
      },
      "execution_count": null,
      "outputs": [
        {
          "output_type": "stream",
          "name": "stdout",
          "text": [
            "My dream car is a Tesla\n",
            "I want to get a licesne to drive a Motorcycle\n",
            "I want to learn how to fly a Plane\n"
          ]
        }
      ]
    },
    {
      "cell_type": "code",
      "source": [
        "# 3-4\n",
        "\n",
        "Dinner_list = [\"Jesus\", \"Kanye West\",\"Kendrick Lamar\"]\n",
        "print(f\"dinner invintation for\", Dinner_list[0])\n",
        "print(f\"dinner invintation for\", Dinner_list[1])\n",
        "print(f\"dinner invintation for\", Dinner_list[2])"
      ],
      "metadata": {
        "colab": {
          "base_uri": "https://localhost:8080/"
        },
        "id": "V3HT-3PzKht5",
        "outputId": "8bbc9dd4-98bc-406b-9b19-1185d6c0a911"
      },
      "execution_count": null,
      "outputs": [
        {
          "output_type": "stream",
          "name": "stdout",
          "text": [
            "dinner invintation for Jesus\n",
            "dinner invintation for Kanye West\n",
            "dinner invintation for Kendrick Lamar\n"
          ]
        }
      ]
    },
    {
      "cell_type": "code",
      "source": [
        "# 3-5\n",
        "\n",
        "Dinner_list = [\"Jesus\", \"Kanye West\",\"Kendrick Lamar\"]\n",
        "print(f\"dinner invintation for\", Dinner_list[0])\n",
        "print(f\"dinner invintation for\", Dinner_list[1])\n",
        "print(f\"dinner invintation for\", Dinner_list[2])\n",
        "print(Dinner_list[1], \"can't make it\")\n",
        "print(f\"new dinner invite\", Dinner_list[0])\n",
        "print(f\"new dinner invite\", Dinner_list[2])"
      ],
      "metadata": {
        "colab": {
          "base_uri": "https://localhost:8080/"
        },
        "id": "IPBSuSgrbjin",
        "outputId": "1d44ee8c-e612-4ab4-9084-8eb54527a6dd"
      },
      "execution_count": null,
      "outputs": [
        {
          "output_type": "stream",
          "name": "stdout",
          "text": [
            "dinner invintation for Jesus\n",
            "dinner invintation for Kanye West\n",
            "dinner invintation for Kendrick Lamar\n",
            "Kanye West can't make it\n",
            "new dinner invite Jesus\n",
            "new dinner invite Kendrick Lamar\n"
          ]
        }
      ]
    },
    {
      "cell_type": "code",
      "source": [
        "# 3-6\n",
        "\n",
        "Dinner_list = [\"Jesus\", \"Kanye West\",\"Kendrick Lamar\"]\n",
        "Dinner_list.insert(1, \"Spongebob\")\n",
        "Dinner_list.append(\"Patrick\")\n",
        "Dinner_list.insert(2,\"Mario\")\n",
        "print(f\"dinner invintation for\", Dinner_list[0])\n",
        "print(f\"dinner invintation for\", Dinner_list[1])\n",
        "print(f\"dinner invintation for\", Dinner_list[2])\n",
        "print(f\"dinner invintation for\", Dinner_list[3])\n",
        "print(f\"dinner invintation for\", Dinner_list[4])\n",
        "print(f\"dinner invintation for\", Dinner_list[5])\n",
        "\n"
      ],
      "metadata": {
        "colab": {
          "base_uri": "https://localhost:8080/"
        },
        "id": "1erD-M0Tdp7A",
        "outputId": "2596cc68-2ef7-41c1-a4d8-63d85d230405"
      },
      "execution_count": null,
      "outputs": [
        {
          "output_type": "stream",
          "name": "stdout",
          "text": [
            "dinner invintation for Jesus\n",
            "dinner invintation for Spongebob\n",
            "dinner invintation for Mario\n",
            "dinner invintation for Kanye West\n",
            "dinner invintation for Kendrick Lamar\n",
            "dinner invintation for Patrick\n"
          ]
        }
      ]
    },
    {
      "cell_type": "code",
      "source": [
        "# 3-7\n",
        "\n",
        "Dinner_list = [\"Jesus\", \"Kanye West\",\"Kendrick Lamar\"]\n",
        "Dinner_list.insert(1, \"Spongebob\")\n",
        "Dinner_list.append(\"Patrick\")\n",
        "Dinner_list.insert(2,\"Mario\")\n",
        "print(f\"dinner invintation for\", Dinner_list[0])\n",
        "print(f\"dinner invintation for\", Dinner_list[1])\n",
        "print(f\"dinner invintation for\", Dinner_list[2])\n",
        "print(f\"dinner invintation for\", Dinner_list[3])\n",
        "print(f\"dinner invintation for\", Dinner_list[4])\n",
        "print(f\"dinner invintation for\", Dinner_list[5])\n",
        "Dinner_list.pop(1)\n",
        "Dinner_list.pop(2)\n",
        "Dinner_list.pop(3)\n",
        "Dinner_list.pop(1)\n",
        "print(\"sorry there isn't enough seats\")\n",
        "print(Dinner_list, \"You are still invited\")\n",
        "del Dinner_list[0]\n",
        "del Dinner_list[0]\n",
        "print(Dinner_list)\n"
      ],
      "metadata": {
        "colab": {
          "base_uri": "https://localhost:8080/"
        },
        "id": "cpJmuBSEfVxo",
        "outputId": "c075e687-7533-49bc-f05b-ad468595820b"
      },
      "execution_count": null,
      "outputs": [
        {
          "output_type": "stream",
          "name": "stdout",
          "text": [
            "dinner invintation for Jesus\n",
            "dinner invintation for Spongebob\n",
            "dinner invintation for Mario\n",
            "dinner invintation for Kanye West\n",
            "dinner invintation for Kendrick Lamar\n",
            "dinner invintation for Patrick\n",
            "sorry there isn't enough seats\n",
            "['Jesus', 'Kendrick Lamar'] You are still invited\n",
            "[]\n"
          ]
        }
      ]
    },
    {
      "cell_type": "code",
      "source": [
        "# 3-8\n",
        "\n",
        "vacation = [\"Spain\", \"Japan\", \"Brazil\", \"Thailand\", \"Greece\"]\n",
        "\n",
        "print(vacation)\n",
        "\n",
        "print(sorted(vacation))\n",
        "print(vacation)\n",
        "\n",
        "vacation.reverse()\n",
        "print(vacation)\n",
        "\n",
        "vacation.reverse()\n",
        "print(vacation)\n",
        "\n",
        "vacation.sort()\n",
        "print(vacation)\n",
        "\n",
        "\n",
        "vacation.sort()\n",
        "print(vacation)"
      ],
      "metadata": {
        "colab": {
          "base_uri": "https://localhost:8080/"
        },
        "id": "WqX2scs_kESy",
        "outputId": "70060b61-bfc4-418f-eb8a-d2431bd561e9"
      },
      "execution_count": null,
      "outputs": [
        {
          "output_type": "stream",
          "name": "stdout",
          "text": [
            "['Spain', 'Japan', 'Brazil', 'Thailand', 'Greece']\n",
            "['Brazil', 'Greece', 'Japan', 'Spain', 'Thailand']\n",
            "['Spain', 'Japan', 'Brazil', 'Thailand', 'Greece']\n",
            "['Greece', 'Thailand', 'Brazil', 'Japan', 'Spain']\n",
            "['Spain', 'Japan', 'Brazil', 'Thailand', 'Greece']\n",
            "['Brazil', 'Greece', 'Japan', 'Spain', 'Thailand']\n",
            "['Brazil', 'Greece', 'Japan', 'Spain', 'Thailand']\n"
          ]
        }
      ]
    },
    {
      "cell_type": "code",
      "source": [
        "# 3-9\n",
        "\n",
        "Dinner_list = [\"Jesus\", \"Kanye West\",\"Kendrick Lamar\"]\n",
        "print(f\"dinner invintation for\", Dinner_list[0])\n",
        "print(f\"dinner invintation for\", Dinner_list[1])\n",
        "print(f\"dinner invintation for\", Dinner_list[2])\n",
        "\n",
        "invited = len(Dinner_list)\n",
        "print(invited)"
      ],
      "metadata": {
        "colab": {
          "base_uri": "https://localhost:8080/"
        },
        "id": "rrfA7OPalxEh",
        "outputId": "b3b74d6d-8ec2-422b-ae56-8cb63a8bb8ff"
      },
      "execution_count": null,
      "outputs": [
        {
          "output_type": "stream",
          "name": "stdout",
          "text": [
            "dinner invintation for Jesus\n",
            "dinner invintation for Kanye West\n",
            "dinner invintation for Kendrick Lamar\n",
            "3\n"
          ]
        }
      ]
    },
    {
      "cell_type": "code",
      "source": [
        "objects = [\"basketball\", \"spoon\", \"TV\"]\n",
        "\n",
        "objects.insert(1,\"mouse\")\n",
        "objects.insert(2, \"hose\")\n",
        "print(objects)\n",
        "\n",
        "\n",
        "\n",
        "print(objects[1], \"is missing\")\n",
        "\n",
        "objects.insert(2,\"Car keys\")\n",
        "\n",
        "objects.pop(1)\n",
        "print(objects)\n",
        "\n",
        "objects.reverse()\n",
        "print(objects)\n",
        "\n",
        "objects.reverse()\n",
        "print(sorted(objects))\n",
        "\n",
        "del objects[0]\n",
        "del objects[2]\n",
        "print(objects)\n",
        "\n",
        "\n",
        "\n"
      ],
      "metadata": {
        "colab": {
          "base_uri": "https://localhost:8080/"
        },
        "id": "TTKhjljLmOFr",
        "outputId": "5a93c9e4-9804-43cf-e9dc-5d061d7cf33c"
      },
      "execution_count": 18,
      "outputs": [
        {
          "output_type": "stream",
          "name": "stdout",
          "text": [
            "['basketball', 'mouse', 'hose', 'spoon', 'TV']\n",
            "mouse is missing\n",
            "['basketball', 'Car keys', 'hose', 'spoon', 'TV']\n",
            "['TV', 'spoon', 'hose', 'Car keys', 'basketball']\n",
            "['Car keys', 'TV', 'basketball', 'hose', 'spoon']\n",
            "['Car keys', 'hose', 'TV']\n"
          ]
        }
      ]
    }
  ]
}