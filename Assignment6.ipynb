{
  "nbformat": 4,
  "nbformat_minor": 0,
  "metadata": {
    "colab": {
      "provenance": [],
      "authorship_tag": "ABX9TyPoQOZDijuJGUKFIMpRr40j",
      "include_colab_link": true
    },
    "kernelspec": {
      "name": "python3",
      "display_name": "Python 3"
    },
    "language_info": {
      "name": "python"
    }
  },
  "cells": [
    {
      "cell_type": "markdown",
      "metadata": {
        "id": "view-in-github",
        "colab_type": "text"
      },
      "source": [
        "<a href=\"https://colab.research.google.com/github/ksmit117/CSC221_ksmit117/blob/main/Assignment6.ipynb\" target=\"_parent\"><img src=\"https://colab.research.google.com/assets/colab-badge.svg\" alt=\"Open In Colab\"/></a>"
      ]
    },
    {
      "cell_type": "code",
      "execution_count": null,
      "metadata": {
        "colab": {
          "base_uri": "https://localhost:8080/"
        },
        "id": "LiBijcXI4bJ9",
        "outputId": "8c53d91a-5cbb-418d-b0d2-64d7c5dfa0fd"
      },
      "outputs": [
        {
          "output_type": "stream",
          "name": "stdout",
          "text": [
            "False I predict False\n",
            "False I predict False\n",
            "True I predict True\n",
            "True I predict True\n",
            "False I predict False\n",
            "False I predict False\n",
            "True I predict True\n",
            "False I predict False\n",
            "True I predict true\n",
            "True I predict True\n"
          ]
        }
      ],
      "source": [
        "# 5-1\n",
        "\n",
        "state = \"New York\"\n",
        "\n",
        "print(state == \"Californa\", \"I predict False\")\n",
        "\n",
        "state = \"New York\"\n",
        "\n",
        "print(state == \"Wyoming\", \"I predict False\")\n",
        "\n",
        "state = \"New York\"\n",
        "\n",
        "print(state == \"New York\", \"I predict True\")\n",
        "\n",
        "Car_brand = \"BMW\"\n",
        "\n",
        "print( Car_brand == \"BMW\", \"I predict True\")\n",
        "\n",
        "\n",
        "Car_brand = \"BMw\"\n",
        "\n",
        "print(Car_brand == \"BMW\", \"I predict False\")\n",
        "\n",
        "app = \"X\"\n",
        "\n",
        "print(app == \"twitter\", \"I predict False\")\n",
        "\n",
        "print(app == \"X\", \"I predict True\")\n",
        "\n",
        "games = \"minecraft\"\n",
        "\n",
        "print(games == \"Elden Ring\", \"I predict False\")\n",
        "\n",
        "print(games == \"minecraft\", \"I predict true\")\n",
        "\n",
        "pie = \"pecan\"\n",
        "\n",
        "print(pie == \"pecan\", \"I predict True\")\n"
      ]
    },
    {
      "cell_type": "code",
      "source": [
        "# 5-2\n",
        "\n",
        "score = 100\n",
        "highscore = 2000\n",
        "\n",
        "print(score > highscore)\n",
        "print(score == highscore)\n",
        "print(score < highscore)\n",
        "\n",
        "list = [\"apples\", \"Popcorn\", \"chips\"]\n",
        "i = \"apples\"\n",
        "x = \"bacon\"\n",
        "\n",
        "if i in list :\n",
        "  print(True)\n",
        "else:\n",
        "  print(False)\n",
        "\n",
        "if x in list:\n",
        "  print(True)\n",
        "else:\n",
        "  print(False)\n",
        "\n",
        "score = 2225\n",
        "world_record = 5000\n",
        "\n",
        "if score > highscore or score == highscore:\n",
        "  print(True)\n",
        "else:\n",
        "  print(False)\n",
        "\n",
        "if score > highscore and score == highscore:\n",
        "  print(True)\n",
        "else:\n",
        "  print(False)\n",
        "\n",
        "Country = \"USA\"\n",
        "state = \"Washington\"\n",
        "\n",
        "print(Country == state)\n",
        "\n",
        "print(Country == \"USA\")\n",
        "\n",
        "x = Country.lower()\n",
        "print(x == Country)\n",
        "\n",
        "\n"
      ],
      "metadata": {
        "colab": {
          "base_uri": "https://localhost:8080/"
        },
        "id": "V0-AaKUK7pl0",
        "outputId": "444c211f-2c16-42fc-a92a-c01fec9d02c2"
      },
      "execution_count": null,
      "outputs": [
        {
          "output_type": "stream",
          "name": "stdout",
          "text": [
            "False\n",
            "False\n",
            "True\n",
            "True\n",
            "False\n",
            "True\n",
            "False\n",
            "False\n",
            "True\n",
            "False\n"
          ]
        }
      ]
    },
    {
      "cell_type": "code",
      "source": [
        "# 5-3\n",
        "\n",
        "alien_color = \"green\"\n",
        "guess = input(\"guess alien color: \")\n",
        "wrong = 0\n",
        "\n",
        "if guess == alien_color:\n",
        "  print(\"correct\")\n",
        "else:\n",
        "  print(\"incorrect\")\n",
        "\n",
        "if wrong == alien_color:\n",
        "  print(\"correct\")\n",
        "else:\n",
        "  print(\"\")"
      ],
      "metadata": {
        "colab": {
          "base_uri": "https://localhost:8080/"
        },
        "id": "lHeb2o_mENrE",
        "outputId": "100ad17f-cbe1-4504-f89a-b37f14ed29a4"
      },
      "execution_count": null,
      "outputs": [
        {
          "output_type": "stream",
          "name": "stdout",
          "text": [
            "guess alien color: 12\n",
            "incorrect\n",
            "\n"
          ]
        }
      ]
    },
    {
      "cell_type": "code",
      "source": [
        "# 5-6\n",
        "\n",
        "age = int(input(\"age: \"))\n",
        "\n",
        "if 2 > age:\n",
        "  print(\"baby\")\n",
        "elif 2 <= age and 4 > age:\n",
        "  print(\"toddler\")\n",
        "elif 4 <= age and 13 > age:\n",
        "  print(\"kid\")\n",
        "elif 13 <= age and 20 > age:\n",
        "  print(\"teenager\")\n",
        "elif 20 <= age and 65 > age:\n",
        "  print(\"Adult\")\n",
        "elif 65 <= age and age > 65:\n",
        "  print(\"Elder\")\n"
      ],
      "metadata": {
        "colab": {
          "base_uri": "https://localhost:8080/"
        },
        "id": "2AK5J3sgF5AF",
        "outputId": "04a077f0-5f85-4e2c-f7ae-d1a323c48dda"
      },
      "execution_count": null,
      "outputs": [
        {
          "output_type": "stream",
          "name": "stdout",
          "text": [
            "age: 32\n",
            "Adult\n"
          ]
        }
      ]
    },
    {
      "cell_type": "code",
      "source": [
        "# 5-12\n",
        "\n",
        "age = int(input(\"age: \"))\n",
        "\n",
        "if 2 > age:\n",
        "  print(\"baby\")\n",
        "elif 2<=age and 4>age:\n",
        "  print(\"toddler\")\n",
        "elif 4<=age and 13>age:\n",
        "  print(\"kid\")\n",
        "elif 13<=age and 20>age:\n",
        "  print(\"teenager\")\n",
        "elif 20<=age and 65>age:\n",
        "  print(\"Adult\")\n",
        "elif 65<=age and age>65:\n",
        "  print(\"Elder\")\n"
      ],
      "metadata": {
        "id": "SJUHMcvKIv1O",
        "colab": {
          "base_uri": "https://localhost:8080/"
        },
        "outputId": "3847822a-95c2-49a5-9213-b84cb6bb5ec6"
      },
      "execution_count": 2,
      "outputs": [
        {
          "output_type": "stream",
          "name": "stdout",
          "text": [
            "age: 67\n",
            "Elder\n"
          ]
        }
      ]
    },
    {
      "cell_type": "code",
      "source": [
        "# 5-13\n",
        "\n",
        "weight=float(input(\"weight in kg: \"))\n",
        "height=float(input(\"height in meters: \"))\n",
        "\n",
        "bmi= weight/(height)**2\n",
        "print(\"your bmi is:\", bmi)\n",
        "\n",
        "if 18.5 > bmi:\n",
        "  print(\"underweight\")\n",
        "elif bmi >= 18.5 and 24.9 >= bmi:\n",
        "  print(\"Normal\")\n",
        "elif bmi >= 25 and 29.9 >= bmi:\n",
        "  print(\"Overweight\")\n",
        "elif bmi >= 30 and 34.9 >= bmi:\n",
        "    print(\"Obese\")\n",
        "elif bmi >= 35:\n",
        "  print(\"Extremely Obese\")\n",
        "\n",
        "\n",
        "\n"
      ],
      "metadata": {
        "id": "BIjd3QHkLSHF",
        "colab": {
          "base_uri": "https://localhost:8080/"
        },
        "outputId": "b67acfb5-1c5e-4fde-dd52-7760f12739c8"
      },
      "execution_count": 17,
      "outputs": [
        {
          "output_type": "stream",
          "name": "stdout",
          "text": [
            "weight in kg: 180\n",
            "height in meters: 2.0\n",
            "your bmi is: 45.0\n",
            "Extremely Obese\n"
          ]
        }
      ]
    },
    {
      "cell_type": "code",
      "source": [
        "\n"
      ],
      "metadata": {
        "id": "5zjRxMdJFx7f"
      },
      "execution_count": 15,
      "outputs": []
    }
  ]
}