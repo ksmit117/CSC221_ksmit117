{
  "nbformat": 4,
  "nbformat_minor": 0,
  "metadata": {
    "colab": {
      "provenance": [],
      "authorship_tag": "ABX9TyNKsQonS/CWz0/j8erngDY8",
      "include_colab_link": true
    },
    "kernelspec": {
      "name": "python3",
      "display_name": "Python 3"
    },
    "language_info": {
      "name": "python"
    }
  },
  "cells": [
    {
      "cell_type": "markdown",
      "metadata": {
        "id": "view-in-github",
        "colab_type": "text"
      },
      "source": [
        "<a href=\"https://colab.research.google.com/github/ksmit117/CSC221_ksmit117/blob/main/Assignment5.ipynb\" target=\"_parent\"><img src=\"https://colab.research.google.com/assets/colab-badge.svg\" alt=\"Open In Colab\"/></a>"
      ]
    },
    {
      "cell_type": "code",
      "execution_count": 8,
      "metadata": {
        "colab": {
          "base_uri": "https://localhost:8080/"
        },
        "id": "8nsZ-K93EK-Z",
        "outputId": "86e0016b-0910-4926-b080-dead3874d12b"
      },
      "outputs": [
        {
          "output_type": "stream",
          "name": "stdout",
          "text": [
            "I like Pineapple pizza\n",
            "Pineapple on pizza is good\n",
            "I like Chicken pizza\n",
            "Pineapple on pizza is good\n",
            "I like cheese pizza\n",
            "Pineapple on pizza is good\n"
          ]
        }
      ],
      "source": [
        "# 4-1\n",
        "pizza = [\"Pineapple\", \"Chicken\", \"cheese\"]\n",
        "\n",
        "for x in pizza:\n",
        "  print(\"I like\",x, \"pizza\")\n",
        "\n",
        "  print(\"Pineapple on pizza is good\")"
      ]
    },
    {
      "cell_type": "code",
      "source": [
        "# 4-2\n",
        "Animals = [\"Dove\", \"Hawk\", \"Cardinal\"]\n",
        "\n",
        "for x in Animals:\n",
        "  print(\"a\",x,\"can fly\")\n",
        "\n",
        "  print(Animals, \"all are types of birds\")\n"
      ],
      "metadata": {
        "colab": {
          "base_uri": "https://localhost:8080/"
        },
        "id": "jXi0CVwiHZFg",
        "outputId": "be2fd422-43f7-490e-8cac-8bc78986e684"
      },
      "execution_count": null,
      "outputs": [
        {
          "output_type": "stream",
          "name": "stdout",
          "text": [
            "a Dove can fly\n",
            "['Dove', 'Hawk', 'Cardinal'] all are types of birds\n",
            "a Hawk can fly\n",
            "['Dove', 'Hawk', 'Cardinal'] all are types of birds\n",
            "a Cardinal can fly\n",
            "['Dove', 'Hawk', 'Cardinal'] all are types of birds\n"
          ]
        }
      ]
    },
    {
      "cell_type": "code",
      "source": [
        "# 4-3\n",
        "x = range(21)\n",
        "\n",
        "for n in x:\n",
        "  print(n)"
      ],
      "metadata": {
        "colab": {
          "base_uri": "https://localhost:8080/"
        },
        "id": "k06KjyCtJWEo",
        "outputId": "4f21a6fb-71c2-4818-9178-ce459ee97b46"
      },
      "execution_count": null,
      "outputs": [
        {
          "output_type": "stream",
          "name": "stdout",
          "text": [
            "0\n",
            "1\n",
            "2\n",
            "3\n",
            "4\n",
            "5\n",
            "6\n",
            "7\n",
            "8\n",
            "9\n",
            "10\n",
            "11\n",
            "12\n",
            "13\n",
            "14\n",
            "15\n",
            "16\n",
            "17\n",
            "18\n",
            "19\n",
            "20\n"
          ]
        }
      ]
    },
    {
      "cell_type": "code",
      "source": [
        "# 4-4\n",
        "x = range(1000000)\n",
        "\n",
        "for n in x:\n",
        "  print(n)"
      ],
      "metadata": {
        "id": "7wE7C0yxLTXl"
      },
      "execution_count": null,
      "outputs": []
    },
    {
      "cell_type": "code",
      "source": [
        "# 4-6\n",
        "x = [i for i in range(1,20+1) if i%2!=0]\n",
        "\n",
        "print(x)\n",
        "\n"
      ],
      "metadata": {
        "colab": {
          "base_uri": "https://localhost:8080/"
        },
        "id": "9I8l2qVxLtAo",
        "outputId": "dffc8e0c-8d54-40cf-daa0-930a73311a85"
      },
      "execution_count": null,
      "outputs": [
        {
          "output_type": "stream",
          "name": "stdout",
          "text": [
            "[1, 3, 5, 7, 9, 11, 13, 15, 17, 19]\n"
          ]
        }
      ]
    },
    {
      "cell_type": "code",
      "source": [
        "# 4-8\n",
        "cubes = []\n",
        "\n",
        "for value in range(1,11):\n",
        "  cubes = value ** 3\n",
        "  print(cubes)\n",
        "\n"
      ],
      "metadata": {
        "colab": {
          "base_uri": "https://localhost:8080/"
        },
        "id": "JJd5kvciXoPa",
        "outputId": "3a7136fb-df8b-4acc-fbea-57bc6c05cd6d"
      },
      "execution_count": 7,
      "outputs": [
        {
          "output_type": "stream",
          "name": "stdout",
          "text": [
            "1\n",
            "8\n",
            "27\n",
            "64\n",
            "125\n",
            "216\n",
            "343\n",
            "512\n",
            "729\n",
            "1000\n"
          ]
        }
      ]
    },
    {
      "cell_type": "code",
      "source": [
        "# 4-10\n",
        "\n",
        "pizza = [\"Pineapple \", \"Chicken \", \"cheese \"]\n",
        "\n",
        "for x in pizza:\n",
        "  print(x * 3)\n",
        "\n"
      ],
      "metadata": {
        "colab": {
          "base_uri": "https://localhost:8080/"
        },
        "id": "wF0zIqs0PwYj",
        "outputId": "407006be-a421-4b00-e75c-2c9320cba197"
      },
      "execution_count": 10,
      "outputs": [
        {
          "output_type": "stream",
          "name": "stdout",
          "text": [
            "Pineapple Pineapple Pineapple \n",
            "Chicken Chicken Chicken \n",
            "cheese cheese cheese \n"
          ]
        }
      ]
    },
    {
      "cell_type": "code",
      "source": [
        "# 4-11\n",
        "pizza = [\"Pineapple\", \"Chicken\", \"cheese\"]\n",
        "\n",
        "pizza.insert(1, \"oninon\")\n",
        "\n",
        "\n",
        "for x in pizza:\n",
        "  print(\"My favorite pizza is\",x, \"pizza\")\n",
        "\n",
        "\n",
        "friends_pizza = [\"veggie\", \"broccoli\"]\n",
        "\n",
        "for x in friends_pizza:\n",
        "  print(\"my friends favorite pizza is\",x)\n",
        "\n"
      ],
      "metadata": {
        "colab": {
          "base_uri": "https://localhost:8080/"
        },
        "id": "utlxY3rAQ_7X",
        "outputId": "766caa09-3b61-4083-caa5-6da7bdce494f"
      },
      "execution_count": 25,
      "outputs": [
        {
          "output_type": "stream",
          "name": "stdout",
          "text": [
            "My favorite pizza is Pineapple pizza\n",
            "My favorite pizza is oninon pizza\n",
            "My favorite pizza is Chicken pizza\n",
            "My favorite pizza is cheese pizza\n",
            "my friends favorite pizza is veggie\n",
            "my friends favorite pizza is broccoli\n"
          ]
        }
      ]
    },
    {
      "cell_type": "code",
      "source": [
        "# 4-12\n",
        "\n",
        "foods = [\"pasta\", \"salad\", \"tacos\"]\n",
        "\n",
        "for x in foods:\n",
        "  print(x)\n",
        "\n",
        "favorite_dishes = [\"chicken alfredo\", \"ceaser salad\", \"beef tacos\"]\n",
        "for x in favorite_dishes:\n",
        "  print(x)"
      ],
      "metadata": {
        "colab": {
          "base_uri": "https://localhost:8080/"
        },
        "id": "rLYf2qD7ZmP5",
        "outputId": "9376e8d2-7a3a-413a-80a8-9ae16272b543"
      },
      "execution_count": 28,
      "outputs": [
        {
          "output_type": "stream",
          "name": "stdout",
          "text": [
            "pasta\n",
            "salad\n",
            "tacos\n",
            "chicken alfredo\n",
            "ceaser salad\n",
            "beef tacos\n"
          ]
        }
      ]
    },
    {
      "cell_type": "code",
      "source": [
        "# 4-13\n",
        "\n",
        "buffet = [\"rice\", \"potatoes\", \"burgers\", \"hotdogs\", \"steak\"]\n",
        "\n",
        "for x in buffet:\n",
        "  print(x)\n",
        "\n",
        "buffet.remove(\"hotdogs\")\n",
        "buffet.remove(\"burgers\")\n",
        "\n",
        "for x in buffet:\n",
        "  print(x)"
      ],
      "metadata": {
        "colab": {
          "base_uri": "https://localhost:8080/"
        },
        "id": "mYSWGjdbaOyj",
        "outputId": "5e9cf510-e5c6-4407-dc14-8fa2f3eaff14"
      },
      "execution_count": 29,
      "outputs": [
        {
          "output_type": "stream",
          "name": "stdout",
          "text": [
            "rice\n",
            "potatoes\n",
            "burgers\n",
            "hotdogs\n",
            "steak\n",
            "rice\n",
            "potatoes\n",
            "steak\n"
          ]
        }
      ]
    }
  ]
}