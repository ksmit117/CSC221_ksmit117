{
  "nbformat": 4,
  "nbformat_minor": 0,
  "metadata": {
    "colab": {
      "provenance": [],
      "authorship_tag": "ABX9TyNlSchzbYf2h2VmRaauOCWM",
      "include_colab_link": true
    },
    "kernelspec": {
      "name": "python3",
      "display_name": "Python 3"
    },
    "language_info": {
      "name": "python"
    }
  },
  "cells": [
    {
      "cell_type": "markdown",
      "metadata": {
        "id": "view-in-github",
        "colab_type": "text"
      },
      "source": [
        "<a href=\"https://colab.research.google.com/github/ksmit117/CSC221_ksmit117/blob/main/Assignment7.ipynb\" target=\"_parent\"><img src=\"https://colab.research.google.com/assets/colab-badge.svg\" alt=\"Open In Colab\"/></a>"
      ]
    },
    {
      "cell_type": "code",
      "execution_count": 3,
      "metadata": {
        "colab": {
          "base_uri": "https://localhost:8080/"
        },
        "id": "FfmxkYYUeCsz",
        "outputId": "19b91fed-3f77-4825-db88-e945fed40cd9"
      },
      "outputs": [
        {
          "output_type": "stream",
          "name": "stdout",
          "text": [
            "{'first_name': 'Kalvin', 'last_name': 'Smith', 'city': 'Bronx'}\n",
            "Bronx\n",
            "Smith\n",
            "Kalvin\n"
          ]
        }
      ],
      "source": [
        "# 6-1\n",
        "student = {\"first_name\": \"Kalvin\", \"last_name\": \"Smith\", \"city\" : \"Bronx\"}\n",
        "print(student)\n",
        "print(student['city'])\n",
        "print(student['last_name'])\n",
        "print(student['first_name'])"
      ]
    },
    {
      "cell_type": "code",
      "source": [
        "# 6-2\n",
        "fav = {\"first_name1\": \"Kalvin\", \"favorite_number1\": 1,\n",
        "       \"first_name2\": \"Ben\", \"favorite_number2\": 13, \"first_name3\" :\n",
        "       \"Dares\", \"favorite_number3\" : 21, \"first_name4\" : \"Mouhammed\",  \"favorite_number4\" : 75\n",
        "       ,\"first_name5\" : \"James\", \"favorite_number5\": 23}\n",
        "print(fav[\"first_name1\"],fav['favorite_number1'])\n",
        "print(fav[\"first_name2\"],fav['favorite_number2'])\n",
        "print(fav[\"first_name3\"],fav['favorite_number3'])\n",
        "print(fav[\"first_name4\"],fav['favorite_number4'])\n",
        "print(fav[\"first_name5\"],fav['favorite_number5'])\n",
        "\n"
      ],
      "metadata": {
        "colab": {
          "base_uri": "https://localhost:8080/"
        },
        "id": "nWcC76I0ha_y",
        "outputId": "8e33b918-b099-4f9f-ba0a-2822680ce369"
      },
      "execution_count": 2,
      "outputs": [
        {
          "output_type": "stream",
          "name": "stdout",
          "text": [
            "Kalvin 1\n",
            "Ben 13\n",
            "Dares 21\n",
            "Mouhammed 75\n",
            "James 23\n"
          ]
        }
      ]
    },
    {
      "cell_type": "code",
      "source": [
        "# 6-3\n",
        "glossary = {\"python_1\" : \"if\", \"python_2\" : \"else\", 'python_3' : 'elif', 'python_4' : 'while' , 'python_5' : 'for' }\n",
        "print(glossary['python_1'], 'proves a statement is true if the condition is reached')\n",
        "print(glossary['python_2'], 'alsways used when using a if statement, if the condition is not true')\n",
        "print(glossary['python_3'], 'combines if and else statements')\n",
        "print(glossary['python_4'], 'executes a loop. as long as the satements is true')\n",
        "print(glossary['python_5'], 'for loop can reveal a sequence in array, tuples and list')\n"
      ],
      "metadata": {
        "colab": {
          "base_uri": "https://localhost:8080/"
        },
        "id": "0W9eu068pltJ",
        "outputId": "8d148ba8-39d0-45d3-82d1-9682cf9b024b"
      },
      "execution_count": 6,
      "outputs": [
        {
          "output_type": "stream",
          "name": "stdout",
          "text": [
            "if proves a statement is true if the condition is reached\n",
            "else alsways used when using a if statement, if the condition is not true\n",
            "elif combines if and else statements\n",
            "while executes a loop. as long as the satements is true\n",
            "for for loop can reveal a sequence in array, tuples and list\n"
          ]
        }
      ]
    },
    {
      "cell_type": "code",
      "source": [
        "# 6-4\n",
        "glossary = {\"python_1\" : 'if proves a statement is true if the condition is reached',\n",
        "            \"python_2\" : 'alsways used when using a if statement, if the condition is not true',\n",
        "            'python_3' : 'elif combines if and else statements',\n",
        "            'python_4' : 'executes a loop. as long as the satements is true',\n",
        "            'python_5' :  'for loop can reveal a sequence in array, tuples and list'}\n",
        "\n",
        "for python in glossary:\n",
        "  print(python)"
      ],
      "metadata": {
        "colab": {
          "base_uri": "https://localhost:8080/"
        },
        "id": "zrs6f6re0IQ7",
        "outputId": "60b76cef-6be7-44f2-9f8b-0c36b31ac337"
      },
      "execution_count": 23,
      "outputs": [
        {
          "output_type": "stream",
          "name": "stdout",
          "text": [
            "{'python_1': 'if proves a statement is true if the condition is reached', 'python_2': 'alsways used when using a if statement, if the condition is not true', 'python_3': 'elif combines if and else statements', 'python_4': 'executes a loop. as long as the satements is true', 'python_5': 'for loop can reveal a sequence in array, tuples and list'}\n",
            "{'python_1': 'if proves a statement is true if the condition is reached', 'python_2': 'alsways used when using a if statement, if the condition is not true', 'python_3': 'elif combines if and else statements', 'python_4': 'executes a loop. as long as the satements is true', 'python_5': 'for loop can reveal a sequence in array, tuples and list'}\n",
            "{'python_1': 'if proves a statement is true if the condition is reached', 'python_2': 'alsways used when using a if statement, if the condition is not true', 'python_3': 'elif combines if and else statements', 'python_4': 'executes a loop. as long as the satements is true', 'python_5': 'for loop can reveal a sequence in array, tuples and list'}\n",
            "{'python_1': 'if proves a statement is true if the condition is reached', 'python_2': 'alsways used when using a if statement, if the condition is not true', 'python_3': 'elif combines if and else statements', 'python_4': 'executes a loop. as long as the satements is true', 'python_5': 'for loop can reveal a sequence in array, tuples and list'}\n",
            "{'python_1': 'if proves a statement is true if the condition is reached', 'python_2': 'alsways used when using a if statement, if the condition is not true', 'python_3': 'elif combines if and else statements', 'python_4': 'executes a loop. as long as the satements is true', 'python_5': 'for loop can reveal a sequence in array, tuples and list'}\n"
          ]
        }
      ]
    },
    {
      "cell_type": "code",
      "source": [
        "# 6-11\n",
        "cities = {'New York': 'The Biggest city in United States ', 'Atlanta': 'Big city located in Georgia, also in United States',\n",
        "'Tokyo': 'Biggest city in the world, located in Japan'}\n",
        "\n",
        "for key in cities:\n",
        "  print(key)\n",
        "\n",
        "print(cities['New York'])\n",
        "print(cities['Tokyo'])\n",
        "print(cities['Atlanta'])\n",
        "\n"
      ],
      "metadata": {
        "colab": {
          "base_uri": "https://localhost:8080/"
        },
        "id": "X-m7gstL4bfq",
        "outputId": "01534123-6f4c-4162-f415-b29b22182cef"
      },
      "execution_count": 30,
      "outputs": [
        {
          "output_type": "stream",
          "name": "stdout",
          "text": [
            "New York\n",
            "Atlanta\n",
            "Tokyo\n",
            "The Biggest city in United States \n",
            "Biggest city in the world, located in Japan\n",
            "Big city located in Georgia, also in United States\n"
          ]
        }
      ]
    }
  ]
}